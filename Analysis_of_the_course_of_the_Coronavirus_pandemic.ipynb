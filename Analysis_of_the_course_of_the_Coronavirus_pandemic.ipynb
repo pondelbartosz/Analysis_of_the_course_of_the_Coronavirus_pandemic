{
  "nbformat": 4,
  "nbformat_minor": 0,
  "metadata": {
    "colab": {
      "provenance": [],
      "collapsed_sections": [
        "3gx1RRarLOcO",
        "Jg0kEuMmLth0",
        "UMHE3SOyL0b3",
        "Ku1wpzqNMDGy",
        "NJTFRB-vCstJ",
        "NVKk_QMzCneY",
        "SSbS3RUDCfH4"
      ]
    },
    "kernelspec": {
      "name": "python3",
      "display_name": "Python 3"
    },
    "language_info": {
      "name": "python"
    }
  },
  "cells": [
    {
      "cell_type": "markdown",
      "source": [
        "# Installing dash and importing needed libraries"
      ],
      "metadata": {
        "id": "_e6aon-eKx5r"
      }
    },
    {
      "cell_type": "code",
      "execution_count": 2,
      "metadata": {
        "colab": {
          "base_uri": "https://localhost:8080/"
        },
        "id": "pY3kzLps0Iz_",
        "outputId": "1e5783ea-f404-47a1-b4b1-282535ee2781"
      },
      "outputs": [
        {
          "output_type": "stream",
          "name": "stdout",
          "text": [
            "Collecting dash\n",
            "  Downloading dash-2.17.0-py3-none-any.whl (7.5 MB)\n",
            "\u001b[2K     \u001b[90m━━━━━━━━━━━━━━━━━━━━━━━━━━━━━━━━━━━━━━━━\u001b[0m \u001b[32m7.5/7.5 MB\u001b[0m \u001b[31m18.0 MB/s\u001b[0m eta \u001b[36m0:00:00\u001b[0m\n",
            "\u001b[?25hRequirement already satisfied: Flask<3.1,>=1.0.4 in /usr/local/lib/python3.10/dist-packages (from dash) (2.2.5)\n",
            "Requirement already satisfied: Werkzeug<3.1 in /usr/local/lib/python3.10/dist-packages (from dash) (3.0.3)\n",
            "Requirement already satisfied: plotly>=5.0.0 in /usr/local/lib/python3.10/dist-packages (from dash) (5.15.0)\n",
            "Collecting dash-html-components==2.0.0 (from dash)\n",
            "  Downloading dash_html_components-2.0.0-py3-none-any.whl (4.1 kB)\n",
            "Collecting dash-core-components==2.0.0 (from dash)\n",
            "  Downloading dash_core_components-2.0.0-py3-none-any.whl (3.8 kB)\n",
            "Collecting dash-table==5.0.0 (from dash)\n",
            "  Downloading dash_table-5.0.0-py3-none-any.whl (3.9 kB)\n",
            "Requirement already satisfied: importlib-metadata in /usr/local/lib/python3.10/dist-packages (from dash) (7.1.0)\n",
            "Requirement already satisfied: typing-extensions>=4.1.1 in /usr/local/lib/python3.10/dist-packages (from dash) (4.11.0)\n",
            "Requirement already satisfied: requests in /usr/local/lib/python3.10/dist-packages (from dash) (2.31.0)\n",
            "Collecting retrying (from dash)\n",
            "  Downloading retrying-1.3.4-py3-none-any.whl (11 kB)\n",
            "Requirement already satisfied: nest-asyncio in /usr/local/lib/python3.10/dist-packages (from dash) (1.6.0)\n",
            "Requirement already satisfied: setuptools in /usr/local/lib/python3.10/dist-packages (from dash) (67.7.2)\n",
            "Requirement already satisfied: Jinja2>=3.0 in /usr/local/lib/python3.10/dist-packages (from Flask<3.1,>=1.0.4->dash) (3.1.4)\n",
            "Requirement already satisfied: itsdangerous>=2.0 in /usr/local/lib/python3.10/dist-packages (from Flask<3.1,>=1.0.4->dash) (2.2.0)\n",
            "Requirement already satisfied: click>=8.0 in /usr/local/lib/python3.10/dist-packages (from Flask<3.1,>=1.0.4->dash) (8.1.7)\n",
            "Requirement already satisfied: tenacity>=6.2.0 in /usr/local/lib/python3.10/dist-packages (from plotly>=5.0.0->dash) (8.3.0)\n",
            "Requirement already satisfied: packaging in /usr/local/lib/python3.10/dist-packages (from plotly>=5.0.0->dash) (24.0)\n",
            "Requirement already satisfied: MarkupSafe>=2.1.1 in /usr/local/lib/python3.10/dist-packages (from Werkzeug<3.1->dash) (2.1.5)\n",
            "Requirement already satisfied: zipp>=0.5 in /usr/local/lib/python3.10/dist-packages (from importlib-metadata->dash) (3.18.2)\n",
            "Requirement already satisfied: charset-normalizer<4,>=2 in /usr/local/lib/python3.10/dist-packages (from requests->dash) (3.3.2)\n",
            "Requirement already satisfied: idna<4,>=2.5 in /usr/local/lib/python3.10/dist-packages (from requests->dash) (3.7)\n",
            "Requirement already satisfied: urllib3<3,>=1.21.1 in /usr/local/lib/python3.10/dist-packages (from requests->dash) (2.0.7)\n",
            "Requirement already satisfied: certifi>=2017.4.17 in /usr/local/lib/python3.10/dist-packages (from requests->dash) (2024.2.2)\n",
            "Requirement already satisfied: six>=1.7.0 in /usr/local/lib/python3.10/dist-packages (from retrying->dash) (1.16.0)\n",
            "Installing collected packages: dash-table, dash-html-components, dash-core-components, retrying, dash\n",
            "Successfully installed dash-2.17.0 dash-core-components-2.0.0 dash-html-components-2.0.0 dash-table-5.0.0 retrying-1.3.4\n"
          ]
        }
      ],
      "source": [
        "!pip install dash"
      ]
    },
    {
      "cell_type": "code",
      "source": [
        "import pandas as pd\n",
        "import seaborn as sns\n",
        "import matplotlib.pyplot as plt\n",
        "import plotly.express as px\n",
        "import dash\n",
        "from dash import html, dcc, Input, Output\n",
        "import threading\n",
        "from google.colab import output"
      ],
      "metadata": {
        "id": "lDoO9_EF1JPx"
      },
      "execution_count": 3,
      "outputs": []
    },
    {
      "cell_type": "markdown",
      "source": [
        "# Getting data from .csv using pandas"
      ],
      "metadata": {
        "id": "Y_abo3KHLEFM"
      }
    },
    {
      "cell_type": "code",
      "source": [
        "df = pd.read_csv('coronavirus_data.csv')"
      ],
      "metadata": {
        "id": "vkA2uMz21S7o"
      },
      "execution_count": 4,
      "outputs": []
    },
    {
      "cell_type": "code",
      "source": [
        "df.info()"
      ],
      "metadata": {
        "id": "qxgDo9Nc1Z8r",
        "colab": {
          "base_uri": "https://localhost:8080/"
        },
        "outputId": "c8221139-3bad-4876-be63-2aef82efcedf"
      },
      "execution_count": 5,
      "outputs": [
        {
          "output_type": "stream",
          "name": "stdout",
          "text": [
            "<class 'pandas.core.frame.DataFrame'>\n",
            "RangeIndex: 180477 entries, 0 to 180476\n",
            "Data columns (total 24 columns):\n",
            " #   Column                   Non-Null Count   Dtype  \n",
            "---  ------                   --------------   -----  \n",
            " 0   index                    180477 non-null  int64  \n",
            " 1   iso_code                 180477 non-null  object \n",
            " 2   continent                180477 non-null  object \n",
            " 3   location                 180477 non-null  object \n",
            " 4   date                     180477 non-null  object \n",
            " 5   total_cases              173493 non-null  float64\n",
            " 6   new_cases                173212 non-null  float64\n",
            " 7   total_deaths             155323 non-null  float64\n",
            " 8   new_deaths               155095 non-null  float64\n",
            " 9   hosp_patients            27152 non-null   float64\n",
            " 10  total_tests              78326 non-null   float64\n",
            " 11  new_tests                74509 non-null   float64\n",
            " 12  tests_per_case           92600 non-null   float64\n",
            " 13  total_vaccinations       46366 non-null   float64\n",
            " 14  people_vaccinated        43851 non-null   float64\n",
            " 15  people_fully_vaccinated  41524 non-null   float64\n",
            " 16  total_boosters           19866 non-null   float64\n",
            " 17  new_vaccinations         36940 non-null   float64\n",
            " 18  population               180477 non-null  float64\n",
            " 19  median_age               159326 non-null  float64\n",
            " 20  gdp_per_capita           157994 non-null  float64\n",
            " 21  life_expectancy          179426 non-null  float64\n",
            " 22  latitude                 180477 non-null  float64\n",
            " 23  longitude                180477 non-null  float64\n",
            "dtypes: float64(19), int64(1), object(4)\n",
            "memory usage: 33.0+ MB\n"
          ]
        }
      ]
    },
    {
      "cell_type": "markdown",
      "source": [
        "# Analysis of population"
      ],
      "metadata": {
        "id": "3gx1RRarLOcO"
      }
    },
    {
      "cell_type": "code",
      "source": [
        "df_pop = df[['location', 'population']].drop_duplicates()"
      ],
      "metadata": {
        "id": "FZx4dFVz1mLZ"
      },
      "execution_count": 6,
      "outputs": []
    },
    {
      "cell_type": "code",
      "source": [
        "df_pop = df_pop.sort_values(by='population', ascending=False).head(10)\n",
        "df_pop"
      ],
      "metadata": {
        "id": "4VsTLNrY13Ni",
        "colab": {
          "base_uri": "https://localhost:8080/",
          "height": 363
        },
        "outputId": "dbadf52a-bb9e-4c1d-9add-a2dc00630705"
      },
      "execution_count": 7,
      "outputs": [
        {
          "output_type": "execute_result",
          "data": {
            "text/plain": [
              "             location    population\n",
              "33499           China  1.444216e+09\n",
              "74570           India  1.393409e+09\n",
              "170959  United States  3.329151e+08\n",
              "75441       Indonesia  2.763618e+08\n",
              "122998       Pakistan  2.251999e+08\n",
              "21805          Brazil  2.139934e+08\n",
              "118134        Nigeria  2.114007e+08\n",
              "12663      Bangladesh  1.663035e+08\n",
              "133450         Russia  1.459120e+08\n",
              "103850         Mexico  1.302622e+08"
            ],
            "text/html": [
              "\n",
              "  <div id=\"df-8ee44c3d-4273-4bd2-a8ca-7f199e6b2342\" class=\"colab-df-container\">\n",
              "    <div>\n",
              "<style scoped>\n",
              "    .dataframe tbody tr th:only-of-type {\n",
              "        vertical-align: middle;\n",
              "    }\n",
              "\n",
              "    .dataframe tbody tr th {\n",
              "        vertical-align: top;\n",
              "    }\n",
              "\n",
              "    .dataframe thead th {\n",
              "        text-align: right;\n",
              "    }\n",
              "</style>\n",
              "<table border=\"1\" class=\"dataframe\">\n",
              "  <thead>\n",
              "    <tr style=\"text-align: right;\">\n",
              "      <th></th>\n",
              "      <th>location</th>\n",
              "      <th>population</th>\n",
              "    </tr>\n",
              "  </thead>\n",
              "  <tbody>\n",
              "    <tr>\n",
              "      <th>33499</th>\n",
              "      <td>China</td>\n",
              "      <td>1.444216e+09</td>\n",
              "    </tr>\n",
              "    <tr>\n",
              "      <th>74570</th>\n",
              "      <td>India</td>\n",
              "      <td>1.393409e+09</td>\n",
              "    </tr>\n",
              "    <tr>\n",
              "      <th>170959</th>\n",
              "      <td>United States</td>\n",
              "      <td>3.329151e+08</td>\n",
              "    </tr>\n",
              "    <tr>\n",
              "      <th>75441</th>\n",
              "      <td>Indonesia</td>\n",
              "      <td>2.763618e+08</td>\n",
              "    </tr>\n",
              "    <tr>\n",
              "      <th>122998</th>\n",
              "      <td>Pakistan</td>\n",
              "      <td>2.251999e+08</td>\n",
              "    </tr>\n",
              "    <tr>\n",
              "      <th>21805</th>\n",
              "      <td>Brazil</td>\n",
              "      <td>2.139934e+08</td>\n",
              "    </tr>\n",
              "    <tr>\n",
              "      <th>118134</th>\n",
              "      <td>Nigeria</td>\n",
              "      <td>2.114007e+08</td>\n",
              "    </tr>\n",
              "    <tr>\n",
              "      <th>12663</th>\n",
              "      <td>Bangladesh</td>\n",
              "      <td>1.663035e+08</td>\n",
              "    </tr>\n",
              "    <tr>\n",
              "      <th>133450</th>\n",
              "      <td>Russia</td>\n",
              "      <td>1.459120e+08</td>\n",
              "    </tr>\n",
              "    <tr>\n",
              "      <th>103850</th>\n",
              "      <td>Mexico</td>\n",
              "      <td>1.302622e+08</td>\n",
              "    </tr>\n",
              "  </tbody>\n",
              "</table>\n",
              "</div>\n",
              "    <div class=\"colab-df-buttons\">\n",
              "\n",
              "  <div class=\"colab-df-container\">\n",
              "    <button class=\"colab-df-convert\" onclick=\"convertToInteractive('df-8ee44c3d-4273-4bd2-a8ca-7f199e6b2342')\"\n",
              "            title=\"Convert this dataframe to an interactive table.\"\n",
              "            style=\"display:none;\">\n",
              "\n",
              "  <svg xmlns=\"http://www.w3.org/2000/svg\" height=\"24px\" viewBox=\"0 -960 960 960\">\n",
              "    <path d=\"M120-120v-720h720v720H120Zm60-500h600v-160H180v160Zm220 220h160v-160H400v160Zm0 220h160v-160H400v160ZM180-400h160v-160H180v160Zm440 0h160v-160H620v160ZM180-180h160v-160H180v160Zm440 0h160v-160H620v160Z\"/>\n",
              "  </svg>\n",
              "    </button>\n",
              "\n",
              "  <style>\n",
              "    .colab-df-container {\n",
              "      display:flex;\n",
              "      gap: 12px;\n",
              "    }\n",
              "\n",
              "    .colab-df-convert {\n",
              "      background-color: #E8F0FE;\n",
              "      border: none;\n",
              "      border-radius: 50%;\n",
              "      cursor: pointer;\n",
              "      display: none;\n",
              "      fill: #1967D2;\n",
              "      height: 32px;\n",
              "      padding: 0 0 0 0;\n",
              "      width: 32px;\n",
              "    }\n",
              "\n",
              "    .colab-df-convert:hover {\n",
              "      background-color: #E2EBFA;\n",
              "      box-shadow: 0px 1px 2px rgba(60, 64, 67, 0.3), 0px 1px 3px 1px rgba(60, 64, 67, 0.15);\n",
              "      fill: #174EA6;\n",
              "    }\n",
              "\n",
              "    .colab-df-buttons div {\n",
              "      margin-bottom: 4px;\n",
              "    }\n",
              "\n",
              "    [theme=dark] .colab-df-convert {\n",
              "      background-color: #3B4455;\n",
              "      fill: #D2E3FC;\n",
              "    }\n",
              "\n",
              "    [theme=dark] .colab-df-convert:hover {\n",
              "      background-color: #434B5C;\n",
              "      box-shadow: 0px 1px 3px 1px rgba(0, 0, 0, 0.15);\n",
              "      filter: drop-shadow(0px 1px 2px rgba(0, 0, 0, 0.3));\n",
              "      fill: #FFFFFF;\n",
              "    }\n",
              "  </style>\n",
              "\n",
              "    <script>\n",
              "      const buttonEl =\n",
              "        document.querySelector('#df-8ee44c3d-4273-4bd2-a8ca-7f199e6b2342 button.colab-df-convert');\n",
              "      buttonEl.style.display =\n",
              "        google.colab.kernel.accessAllowed ? 'block' : 'none';\n",
              "\n",
              "      async function convertToInteractive(key) {\n",
              "        const element = document.querySelector('#df-8ee44c3d-4273-4bd2-a8ca-7f199e6b2342');\n",
              "        const dataTable =\n",
              "          await google.colab.kernel.invokeFunction('convertToInteractive',\n",
              "                                                    [key], {});\n",
              "        if (!dataTable) return;\n",
              "\n",
              "        const docLinkHtml = 'Like what you see? Visit the ' +\n",
              "          '<a target=\"_blank\" href=https://colab.research.google.com/notebooks/data_table.ipynb>data table notebook</a>'\n",
              "          + ' to learn more about interactive tables.';\n",
              "        element.innerHTML = '';\n",
              "        dataTable['output_type'] = 'display_data';\n",
              "        await google.colab.output.renderOutput(dataTable, element);\n",
              "        const docLink = document.createElement('div');\n",
              "        docLink.innerHTML = docLinkHtml;\n",
              "        element.appendChild(docLink);\n",
              "      }\n",
              "    </script>\n",
              "  </div>\n",
              "\n",
              "\n",
              "<div id=\"df-52f89bf5-f1ff-493d-acc0-3e1f1b5031d9\">\n",
              "  <button class=\"colab-df-quickchart\" onclick=\"quickchart('df-52f89bf5-f1ff-493d-acc0-3e1f1b5031d9')\"\n",
              "            title=\"Suggest charts\"\n",
              "            style=\"display:none;\">\n",
              "\n",
              "<svg xmlns=\"http://www.w3.org/2000/svg\" height=\"24px\"viewBox=\"0 0 24 24\"\n",
              "     width=\"24px\">\n",
              "    <g>\n",
              "        <path d=\"M19 3H5c-1.1 0-2 .9-2 2v14c0 1.1.9 2 2 2h14c1.1 0 2-.9 2-2V5c0-1.1-.9-2-2-2zM9 17H7v-7h2v7zm4 0h-2V7h2v10zm4 0h-2v-4h2v4z\"/>\n",
              "    </g>\n",
              "</svg>\n",
              "  </button>\n",
              "\n",
              "<style>\n",
              "  .colab-df-quickchart {\n",
              "      --bg-color: #E8F0FE;\n",
              "      --fill-color: #1967D2;\n",
              "      --hover-bg-color: #E2EBFA;\n",
              "      --hover-fill-color: #174EA6;\n",
              "      --disabled-fill-color: #AAA;\n",
              "      --disabled-bg-color: #DDD;\n",
              "  }\n",
              "\n",
              "  [theme=dark] .colab-df-quickchart {\n",
              "      --bg-color: #3B4455;\n",
              "      --fill-color: #D2E3FC;\n",
              "      --hover-bg-color: #434B5C;\n",
              "      --hover-fill-color: #FFFFFF;\n",
              "      --disabled-bg-color: #3B4455;\n",
              "      --disabled-fill-color: #666;\n",
              "  }\n",
              "\n",
              "  .colab-df-quickchart {\n",
              "    background-color: var(--bg-color);\n",
              "    border: none;\n",
              "    border-radius: 50%;\n",
              "    cursor: pointer;\n",
              "    display: none;\n",
              "    fill: var(--fill-color);\n",
              "    height: 32px;\n",
              "    padding: 0;\n",
              "    width: 32px;\n",
              "  }\n",
              "\n",
              "  .colab-df-quickchart:hover {\n",
              "    background-color: var(--hover-bg-color);\n",
              "    box-shadow: 0 1px 2px rgba(60, 64, 67, 0.3), 0 1px 3px 1px rgba(60, 64, 67, 0.15);\n",
              "    fill: var(--button-hover-fill-color);\n",
              "  }\n",
              "\n",
              "  .colab-df-quickchart-complete:disabled,\n",
              "  .colab-df-quickchart-complete:disabled:hover {\n",
              "    background-color: var(--disabled-bg-color);\n",
              "    fill: var(--disabled-fill-color);\n",
              "    box-shadow: none;\n",
              "  }\n",
              "\n",
              "  .colab-df-spinner {\n",
              "    border: 2px solid var(--fill-color);\n",
              "    border-color: transparent;\n",
              "    border-bottom-color: var(--fill-color);\n",
              "    animation:\n",
              "      spin 1s steps(1) infinite;\n",
              "  }\n",
              "\n",
              "  @keyframes spin {\n",
              "    0% {\n",
              "      border-color: transparent;\n",
              "      border-bottom-color: var(--fill-color);\n",
              "      border-left-color: var(--fill-color);\n",
              "    }\n",
              "    20% {\n",
              "      border-color: transparent;\n",
              "      border-left-color: var(--fill-color);\n",
              "      border-top-color: var(--fill-color);\n",
              "    }\n",
              "    30% {\n",
              "      border-color: transparent;\n",
              "      border-left-color: var(--fill-color);\n",
              "      border-top-color: var(--fill-color);\n",
              "      border-right-color: var(--fill-color);\n",
              "    }\n",
              "    40% {\n",
              "      border-color: transparent;\n",
              "      border-right-color: var(--fill-color);\n",
              "      border-top-color: var(--fill-color);\n",
              "    }\n",
              "    60% {\n",
              "      border-color: transparent;\n",
              "      border-right-color: var(--fill-color);\n",
              "    }\n",
              "    80% {\n",
              "      border-color: transparent;\n",
              "      border-right-color: var(--fill-color);\n",
              "      border-bottom-color: var(--fill-color);\n",
              "    }\n",
              "    90% {\n",
              "      border-color: transparent;\n",
              "      border-bottom-color: var(--fill-color);\n",
              "    }\n",
              "  }\n",
              "</style>\n",
              "\n",
              "  <script>\n",
              "    async function quickchart(key) {\n",
              "      const quickchartButtonEl =\n",
              "        document.querySelector('#' + key + ' button');\n",
              "      quickchartButtonEl.disabled = true;  // To prevent multiple clicks.\n",
              "      quickchartButtonEl.classList.add('colab-df-spinner');\n",
              "      try {\n",
              "        const charts = await google.colab.kernel.invokeFunction(\n",
              "            'suggestCharts', [key], {});\n",
              "      } catch (error) {\n",
              "        console.error('Error during call to suggestCharts:', error);\n",
              "      }\n",
              "      quickchartButtonEl.classList.remove('colab-df-spinner');\n",
              "      quickchartButtonEl.classList.add('colab-df-quickchart-complete');\n",
              "    }\n",
              "    (() => {\n",
              "      let quickchartButtonEl =\n",
              "        document.querySelector('#df-52f89bf5-f1ff-493d-acc0-3e1f1b5031d9 button');\n",
              "      quickchartButtonEl.style.display =\n",
              "        google.colab.kernel.accessAllowed ? 'block' : 'none';\n",
              "    })();\n",
              "  </script>\n",
              "</div>\n",
              "    </div>\n",
              "  </div>\n"
            ],
            "application/vnd.google.colaboratory.intrinsic+json": {
              "type": "dataframe",
              "variable_name": "df_pop",
              "summary": "{\n  \"name\": \"df_pop\",\n  \"rows\": 10,\n  \"fields\": [\n    {\n      \"column\": \"location\",\n      \"properties\": {\n        \"dtype\": \"string\",\n        \"num_unique_values\": 10,\n        \"samples\": [\n          \"Russia\",\n          \"India\",\n          \"Brazil\"\n        ],\n        \"semantic_type\": \"\",\n        \"description\": \"\"\n      }\n    },\n    {\n      \"column\": \"population\",\n      \"properties\": {\n        \"dtype\": \"number\",\n        \"std\": 512134403.44902843,\n        \"min\": 130262220.0,\n        \"max\": 1444216102.0,\n        \"num_unique_values\": 10,\n        \"samples\": [\n          145912022.0,\n          1393409033.0,\n          213993441.0\n        ],\n        \"semantic_type\": \"\",\n        \"description\": \"\"\n      }\n    }\n  ]\n}"
            }
          },
          "metadata": {},
          "execution_count": 7
        }
      ]
    },
    {
      "cell_type": "code",
      "source": [
        "plt.figure(figsize=(12,8))\n",
        "sns.set_theme(style=\"whitegrid\")\n",
        "pop_chart = sns.barplot(x='location',\n",
        "                               y='population',\n",
        "                               data=df_pop,\n",
        "                               color='#3F3244')\n",
        "pop_chart.set_xticklabels(pop_chart.get_xticklabels(), rotation=60)"
      ],
      "metadata": {
        "id": "L045T-5I2Lct",
        "colab": {
          "base_uri": "https://localhost:8080/",
          "height": 1000
        },
        "outputId": "6d40c897-ae32-446e-d86c-eddc07c6b8e0"
      },
      "execution_count": 8,
      "outputs": [
        {
          "output_type": "stream",
          "name": "stderr",
          "text": [
            "<ipython-input-8-61b846fdb5d2>:7: UserWarning: FixedFormatter should only be used together with FixedLocator\n",
            "  pop_chart.set_xticklabels(pop_chart.get_xticklabels(), rotation=60)\n"
          ]
        },
        {
          "output_type": "execute_result",
          "data": {
            "text/plain": [
              "[Text(0, 0, 'China'),\n",
              " Text(1, 0, 'India'),\n",
              " Text(2, 0, 'United States'),\n",
              " Text(3, 0, 'Indonesia'),\n",
              " Text(4, 0, 'Pakistan'),\n",
              " Text(5, 0, 'Brazil'),\n",
              " Text(6, 0, 'Nigeria'),\n",
              " Text(7, 0, 'Bangladesh'),\n",
              " Text(8, 0, 'Russia'),\n",
              " Text(9, 0, 'Mexico')]"
            ]
          },
          "metadata": {},
          "execution_count": 8
        },
        {
          "output_type": "display_data",
          "data": {
            "text/plain": [
              "<Figure size 1200x800 with 1 Axes>"
            ],
            "image/png": "[encoded data removed]"
          },
          "metadata": {}
        }
      ]
    },
    {
      "cell_type": "markdown",
      "source": [
        "# Analysis of life expectancy"
      ],
      "metadata": {
        "id": "Jg0kEuMmLth0"
      }
    },
    {
      "cell_type": "code",
      "source": [
        "df_pop_lifeexp = df[['location', 'continent', 'population', 'life_expectancy']].drop_duplicates()"
      ],
      "metadata": {
        "id": "KTSSbq1v2lJ_"
      },
      "execution_count": 9,
      "outputs": []
    },
    {
      "cell_type": "code",
      "source": [
        "pop_lifeexp_chart = px.scatter(data_frame=df_pop_lifeexp,\n",
        "                               x='population',\n",
        "                               y='life_expectancy',\n",
        "                               color='continent',\n",
        "                               color_discrete_sequence=px.colors.qualitative.Prism,\n",
        "                               title='Life expectancy vs. population by continent',\n",
        "                               log_x=True)"
      ],
      "metadata": {
        "id": "5JQpClQj2lSc"
      },
      "execution_count": 10,
      "outputs": []
    },
    {
      "cell_type": "code",
      "source": [
        "pop_lifeexp_chart"
      ],
      "metadata": {
        "id": "XhjtrAnY2lVP",
        "colab": {
          "base_uri": "https://localhost:8080/",
          "height": 542
        },
        "outputId": "19218dec-4954-45f9-d586-d823fbc7554e"
      },
      "execution_count": 11,
      "outputs": [
        {
          "output_type": "display_data",
          "data": {
            "text/html": [
              "<html>\n",
              "<head><meta charset=\"utf-8\" /></head>\n",
              "<body>\n",
              "    <div>            <script src=\"https://cdnjs.cloudflare.com/ajax/libs/mathjax/2.7.5/MathJax.js?config=TeX-AMS-MML_SVG\"></script><script type=\"text/javascript\">if (window.MathJax && window.MathJax.Hub && window.MathJax.Hub.Config) {window.MathJax.Hub.Config({SVG: {font: \"STIX-Web\"}});}</script>                <script type=\"text/javascript\">window.PlotlyConfig = {MathJaxConfig: 'local'};</script>\n",
              "        <script charset=\"utf-8\" src=\"https://cdn.plot.ly/plotly-2.24.1.min.js\"></script>                <div id=\"5cd32de4-4c13-4851-a3f3-b6b5dd74fa4b\" class=\"plotly-graph-div\" style=\"height:525px; width:100%;\"></div>            <script type=\"text/javascript\">                                    window.PLOTLYENV=window.PLOTLYENV || {};                                    if (document.getElementById(\"5cd32de4-4c13-4851-a3f3-b6b5dd74fa4b\")) {                    Plotly.newPlot(                        \"5cd32de4-4c13-4851-a3f3-b6b5dd74fa4b\",                        [{\"hovertemplate\":\"continent=Asia\\u003cbr\\u003epopulation=%{x}\\u003cbr\\u003elife_expectancy=%{y}\\u003cextra\\u003e\\u003c\\u002fextra\\u003e\",\"legendgroup\":\"Asia\",\"marker\":{\"color\":\"rgb(95, 70, 144)\",\"symbol\":\"circle\"},\"mode\":\"markers\",\"name\":\"Asia\",\"orientation\":\"v\",\"showlegend\":true,\"x\":[39835428.0,2968128.0,10223344.0,1748295.0,166303494.0,779900.0,441532.0,16946446.0,1444216102.0,3979773.0,7552800.0,1393409033.0,276361788.0,85028760.0,41179351.0,9291000.0,126050796.0,10269022.0,18994958.0,4328553.0,6628347.0,7379358.0,6769151.0,658391.0,32776195.0,543620.0,3329282.0,54806014.0,29674920.0,25887045.0,5223376.0,225199929.0,5222756.0,111046910.0,2930524.0,35340680.0,5453600.0,51305184.0,21497306.0,18275704.0,23855008.0,9749625.0,69950844.0,1343875.0,85042736.0,6117933.0,9991083.0,33935765.0,98168829.0,30490639.0],\"xaxis\":\"x\",\"y\":[64.83,75.09,73.0,77.29,72.59,71.78,75.86,69.82,76.91,73.77,84.86,69.66,71.72,76.68,70.6,82.97,84.63,74.53,73.6,75.49,71.45,67.92,78.93,84.24,76.16,78.92,69.87,67.13,70.78,72.27,77.86,67.27,74.05,71.23,80.23,75.13,83.62,83.03,76.98,72.7,80.46,71.1,77.15,69.5,77.69,68.19,77.97,71.72,75.4,66.12],\"yaxis\":\"y\",\"type\":\"scatter\"},{\"hovertemplate\":\"continent=Europe\\u003cbr\\u003epopulation=%{x}\\u003cbr\\u003elife_expectancy=%{y}\\u003cextra\\u003e\\u003c\\u002fextra\\u003e\",\"legendgroup\":\"Europe\",\"marker\":{\"color\":\"rgb(29, 105, 150)\",\"symbol\":\"circle\"},\"mode\":\"markers\",\"name\":\"Europe\",\"orientation\":\"v\",\"showlegend\":true,\"x\":[2872934.0,77354.0,9043072.0,9442867.0,11632334.0,3263459.0,6896655.0,4081657.0,896005.0,10724553.0,5813302.0,1325188.0,49053.0,5548361.0,67422000.0,83900471.0,33691.0,10370747.0,63385.0,9634162.0,368792.0,4982904.0,85410.0,60367471.0,101073.0,1866934.0,38254.0,2689862.0,634814.0,516100.0,4024025.0,39520.0,628051.0,17173094.0,2082661.0,5465629.0,37797000.0,10167923.0,19127772.0,145912022.0,34010.0,6871547.0,5449270.0,2078723.0,46745211.0,10160159.0,8715494.0,43466822.0,68207114.0,812.0],\"xaxis\":\"x\",\"y\":[78.57,83.73,81.54,74.79,81.63,77.4,75.05,78.49,80.98,79.38,80.9,78.74,80.67,81.91,82.66,81.33,79.93,82.24,null,76.88,82.99,82.3,81.4,83.51,null,75.29,82.49,75.93,82.25,82.53,71.9,86.75,76.88,82.28,75.8,82.4,78.73,82.05,76.05,72.58,84.97,76.0,77.54,81.32,83.56,82.8,83.78,72.06,81.32,75.12],\"yaxis\":\"y\",\"type\":\"scatter\"},{\"hovertemplate\":\"continent=Africa\\u003cbr\\u003epopulation=%{x}\\u003cbr\\u003elife_expectancy=%{y}\\u003cextra\\u003e\\u003c\\u002fextra\\u003e\",\"legendgroup\":\"Africa\",\"marker\":{\"color\":\"rgb(56, 166, 165)\",\"symbol\":\"circle\"},\"mode\":\"markers\",\"name\":\"Africa\",\"orientation\":\"v\",\"showlegend\":true,\"x\":[44616626.0,33933611.0,12451031.0,2397240.0,21497097.0,12255429.0,27224262.0,561901.0,4919987.0,16914985.0,888456.0,5657017.0,27053629.0,92377986.0,1002197.0,104258327.0,1449891.0,3601462.0,1172369.0,117876226.0,2278829.0,2486937.0,31732128.0,13497237.0,2015490.0,54985702.0,2159067.0,5180208.0,6958538.0,28427333.0,19647681.0,20855724.0,4775110.0,1273428.0,37344787.0,32163045.0,2587344.0,25130810.0,211400704.0,13276517.0,6095.0,223364.0,17196308.0,98910.0,8141343.0,16359500.0,60041996.0,11381377.0,44909351.0,61498438.0,8478242.0,11935764.0,47123533.0,611872.0,18920657.0,15092171.0],\"xaxis\":\"x\",\"y\":[76.88,61.15,61.77,69.59,61.58,61.58,59.29,72.98,53.28,54.24,64.32,64.57,57.78,60.68,67.11,71.99,58.74,66.32,60.19,66.6,66.47,62.05,64.07,61.6,58.32,66.7,54.33,64.1,72.91,67.04,64.26,59.31,64.92,74.99,76.68,60.85,63.71,62.42,54.69,69.02,80.56,70.39,67.94,73.4,54.7,57.4,64.13,57.85,65.31,65.46,61.04,76.7,63.37,70.26,63.89,61.49],\"yaxis\":\"y\",\"type\":\"scatter\"},{\"hovertemplate\":\"continent=North America\\u003cbr\\u003epopulation=%{x}\\u003cbr\\u003elife_expectancy=%{y}\\u003cextra\\u003e\\u003c\\u002fextra\\u003e\",\"legendgroup\":\"North America\",\"marker\":{\"color\":\"rgb(15, 133, 84)\",\"symbol\":\"circle\"},\"mode\":\"markers\",\"name\":\"North America\",\"orientation\":\"v\",\"showlegend\":true,\"x\":[15125.0,98728.0,107195.0,396914.0,287708.0,404915.0,62092.0,30423.0,38067913.0,66498.0,5139053.0,11317498.0,72172.0,10953714.0,6518500.0,56868.0,113015.0,18249868.0,11541683.0,10062994.0,2973462.0,130262220.0,4981.0,6702379.0,4381583.0,2828246.0,53546.0,184401.0,5771.0,111269.0,1403374.0,39226.0,332915074.0,104218.0],\"xaxis\":\"x\",\"y\":[81.88,77.02,76.29,73.92,79.19,74.62,82.59,79.07,82.43,83.92,80.28,78.8,75.0,74.08,73.32,71.7,72.4,74.3,64.0,75.27,74.47,75.05,74.16,74.48,78.51,80.1,76.23,76.2,81.07,72.53,73.51,80.22,78.86,80.58],\"yaxis\":\"y\",\"type\":\"scatter\"},{\"hovertemplate\":\"continent=South America\\u003cbr\\u003epopulation=%{x}\\u003cbr\\u003elife_expectancy=%{y}\\u003cextra\\u003e\\u003c\\u002fextra\\u003e\",\"legendgroup\":\"South America\",\"marker\":{\"color\":\"rgb(115, 175, 72)\",\"symbol\":\"circle\"},\"mode\":\"markers\",\"name\":\"South America\",\"orientation\":\"v\",\"showlegend\":true,\"x\":[45605823.0,11832936.0,213993441.0,19212362.0,51265841.0,17888474.0,3528.0,790329.0,7219641.0,33359415.0,591798.0,3485152.0,28704947.0],\"xaxis\":\"x\",\"y\":[76.67,71.51,75.88,80.18,77.29,77.01,81.44,69.91,74.25,76.74,71.68,77.91,72.06],\"yaxis\":\"y\",\"type\":\"scatter\"},{\"hovertemplate\":\"continent=Oceania\\u003cbr\\u003epopulation=%{x}\\u003cbr\\u003elife_expectancy=%{y}\\u003cextra\\u003e\\u003c\\u002fextra\\u003e\",\"legendgroup\":\"Oceania\",\"marker\":{\"color\":\"rgb(237, 173, 8)\",\"symbol\":\"circle\"},\"mode\":\"markers\",\"name\":\"Oceania\",\"orientation\":\"v\",\"showlegend\":true,\"x\":[25788217.0,17572.0,902899.0,282534.0,170184.0,121388.0,59618.0,116255.0,10873.0,288217.0,5126300.0,1614.0,57910.0,18174.0,9119005.0,47.0,200144.0,703995.0,1368.0,106759.0,11925.0,314464.0,11094.0],\"xaxis\":\"x\",\"y\":[83.44,76.25,67.44,77.66,80.07,68.37,73.7,67.88,59.96,77.55,82.29,73.71,76.74,73.7,64.5,null,73.32,73.0,81.86,70.91,67.57,70.47,79.94],\"yaxis\":\"y\",\"type\":\"scatter\"}],                        {\"template\":{\"data\":{\"histogram2dcontour\":[{\"type\":\"histogram2dcontour\",\"colorbar\":{\"outlinewidth\":0,\"ticks\":\"\"},\"colorscale\":[[0.0,\"#0d0887\"],[0.1111111111111111,\"#46039f\"],[0.2222222222222222,\"#7201a8\"],[0.3333333333333333,\"#9c179e\"],[0.4444444444444444,\"#bd3786\"],[0.5555555555555556,\"#d8576b\"],[0.6666666666666666,\"#ed7953\"],[0.7777777777777778,\"#fb9f3a\"],[0.8888888888888888,\"#fdca26\"],[1.0,\"#f0f921\"]]}],\"choropleth\":[{\"type\":\"choropleth\",\"colorbar\":{\"outlinewidth\":0,\"ticks\":\"\"}}],\"histogram2d\":[{\"type\":\"histogram2d\",\"colorbar\":{\"outlinewidth\":0,\"ticks\":\"\"},\"colorscale\":[[0.0,\"#0d0887\"],[0.1111111111111111,\"#46039f\"],[0.2222222222222222,\"#7201a8\"],[0.3333333333333333,\"#9c179e\"],[0.4444444444444444,\"#bd3786\"],[0.5555555555555556,\"#d8576b\"],[0.6666666666666666,\"#ed7953\"],[0.7777777777777778,\"#fb9f3a\"],[0.8888888888888888,\"#fdca26\"],[1.0,\"#f0f921\"]]}],\"heatmap\":[{\"type\":\"heatmap\",\"colorbar\":{\"outlinewidth\":0,\"ticks\":\"\"},\"colorscale\":[[0.0,\"#0d0887\"],[0.1111111111111111,\"#46039f\"],[0.2222222222222222,\"#7201a8\"],[0.3333333333333333,\"#9c179e\"],[0.4444444444444444,\"#bd3786\"],[0.5555555555555556,\"#d8576b\"],[0.6666666666666666,\"#ed7953\"],[0.7777777777777778,\"#fb9f3a\"],[0.8888888888888888,\"#fdca26\"],[1.0,\"#f0f921\"]]}],\"heatmapgl\":[{\"type\":\"heatmapgl\",\"colorbar\":{\"outlinewidth\":0,\"ticks\":\"\"},\"colorscale\":[[0.0,\"#0d0887\"],[0.1111111111111111,\"#46039f\"],[0.2222222222222222,\"#7201a8\"],[0.3333333333333333,\"#9c179e\"],[0.4444444444444444,\"#bd3786\"],[0.5555555555555556,\"#d8576b\"],[0.6666666666666666,\"#ed7953\"],[0.7777777777777778,\"#fb9f3a\"],[0.8888888888888888,\"#fdca26\"],[1.0,\"#f0f921\"]]}],\"contourcarpet\":[{\"type\":\"contourcarpet\",\"colorbar\":{\"outlinewidth\":0,\"ticks\":\"\"}}],\"contour\":[{\"type\":\"contour\",\"colorbar\":{\"outlinewidth\":0,\"ticks\":\"\"},\"colorscale\":[[0.0,\"#0d0887\"],[0.1111111111111111,\"#46039f\"],[0.2222222222222222,\"#7201a8\"],[0.3333333333333333,\"#9c179e\"],[0.4444444444444444,\"#bd3786\"],[0.5555555555555556,\"#d8576b\"],[0.6666666666666666,\"#ed7953\"],[0.7777777777777778,\"#fb9f3a\"],[0.8888888888888888,\"#fdca26\"],[1.0,\"#f0f921\"]]}],\"surface\":[{\"type\":\"surface\",\"colorbar\":{\"outlinewidth\":0,\"ticks\":\"\"},\"colorscale\":[[0.0,\"#0d0887\"],[0.1111111111111111,\"#46039f\"],[0.2222222222222222,\"#7201a8\"],[0.3333333333333333,\"#9c179e\"],[0.4444444444444444,\"#bd3786\"],[0.5555555555555556,\"#d8576b\"],[0.6666666666666666,\"#ed7953\"],[0.7777777777777778,\"#fb9f3a\"],[0.8888888888888888,\"#fdca26\"],[1.0,\"#f0f921\"]]}],\"mesh3d\":[{\"type\":\"mesh3d\",\"colorbar\":{\"outlinewidth\":0,\"ticks\":\"\"}}],\"scatter\":[{\"fillpattern\":{\"fillmode\":\"overlay\",\"size\":10,\"solidity\":0.2},\"type\":\"scatter\"}],\"parcoords\":[{\"type\":\"parcoords\",\"line\":{\"colorbar\":{\"outlinewidth\":0,\"ticks\":\"\"}}}],\"scatterpolargl\":[{\"type\":\"scatterpolargl\",\"marker\":{\"colorbar\":{\"outlinewidth\":0,\"ticks\":\"\"}}}],\"bar\":[{\"error_x\":{\"color\":\"#2a3f5f\"},\"error_y\":{\"color\":\"#2a3f5f\"},\"marker\":{\"line\":{\"color\":\"#E5ECF6\",\"width\":0.5},\"pattern\":{\"fillmode\":\"overlay\",\"size\":10,\"solidity\":0.2}},\"type\":\"bar\"}],\"scattergeo\":[{\"type\":\"scattergeo\",\"marker\":{\"colorbar\":{\"outlinewidth\":0,\"ticks\":\"\"}}}],\"scatterpolar\":[{\"type\":\"scatterpolar\",\"marker\":{\"colorbar\":{\"outlinewidth\":0,\"ticks\":\"\"}}}],\"histogram\":[{\"marker\":{\"pattern\":{\"fillmode\":\"overlay\",\"size\":10,\"solidity\":0.2}},\"type\":\"histogram\"}],\"scattergl\":[{\"type\":\"scattergl\",\"marker\":{\"colorbar\":{\"outlinewidth\":0,\"ticks\":\"\"}}}],\"scatter3d\":[{\"type\":\"scatter3d\",\"line\":{\"colorbar\":{\"outlinewidth\":0,\"ticks\":\"\"}},\"marker\":{\"colorbar\":{\"outlinewidth\":0,\"ticks\":\"\"}}}],\"scattermapbox\":[{\"type\":\"scattermapbox\",\"marker\":{\"colorbar\":{\"outlinewidth\":0,\"ticks\":\"\"}}}],\"scatterternary\":[{\"type\":\"scatterternary\",\"marker\":{\"colorbar\":{\"outlinewidth\":0,\"ticks\":\"\"}}}],\"scattercarpet\":[{\"type\":\"scattercarpet\",\"marker\":{\"colorbar\":{\"outlinewidth\":0,\"ticks\":\"\"}}}],\"carpet\":[{\"aaxis\":{\"endlinecolor\":\"#2a3f5f\",\"gridcolor\":\"white\",\"linecolor\":\"white\",\"minorgridcolor\":\"white\",\"startlinecolor\":\"#2a3f5f\"},\"baxis\":{\"endlinecolor\":\"#2a3f5f\",\"gridcolor\":\"white\",\"linecolor\":\"white\",\"minorgridcolor\":\"white\",\"startlinecolor\":\"#2a3f5f\"},\"type\":\"carpet\"}],\"table\":[{\"cells\":{\"fill\":{\"color\":\"#EBF0F8\"},\"line\":{\"color\":\"white\"}},\"header\":{\"fill\":{\"color\":\"#C8D4E3\"},\"line\":{\"color\":\"white\"}},\"type\":\"table\"}],\"barpolar\":[{\"marker\":{\"line\":{\"color\":\"#E5ECF6\",\"width\":0.5},\"pattern\":{\"fillmode\":\"overlay\",\"size\":10,\"solidity\":0.2}},\"type\":\"barpolar\"}],\"pie\":[{\"automargin\":true,\"type\":\"pie\"}]},\"layout\":{\"autotypenumbers\":\"strict\",\"colorway\":[\"#636efa\",\"#EF553B\",\"#00cc96\",\"#ab63fa\",\"#FFA15A\",\"#19d3f3\",\"#FF6692\",\"#B6E880\",\"#FF97FF\",\"#FECB52\"],\"font\":{\"color\":\"#2a3f5f\"},\"hovermode\":\"closest\",\"hoverlabel\":{\"align\":\"left\"},\"paper_bgcolor\":\"white\",\"plot_bgcolor\":\"#E5ECF6\",\"polar\":{\"bgcolor\":\"#E5ECF6\",\"angularaxis\":{\"gridcolor\":\"white\",\"linecolor\":\"white\",\"ticks\":\"\"},\"radialaxis\":{\"gridcolor\":\"white\",\"linecolor\":\"white\",\"ticks\":\"\"}},\"ternary\":{\"bgcolor\":\"#E5ECF6\",\"aaxis\":{\"gridcolor\":\"white\",\"linecolor\":\"white\",\"ticks\":\"\"},\"baxis\":{\"gridcolor\":\"white\",\"linecolor\":\"white\",\"ticks\":\"\"},\"caxis\":{\"gridcolor\":\"white\",\"linecolor\":\"white\",\"ticks\":\"\"}},\"coloraxis\":{\"colorbar\":{\"outlinewidth\":0,\"ticks\":\"\"}},\"colorscale\":{\"sequential\":[[0.0,\"#0d0887\"],[0.1111111111111111,\"#46039f\"],[0.2222222222222222,\"#7201a8\"],[0.3333333333333333,\"#9c179e\"],[0.4444444444444444,\"#bd3786\"],[0.5555555555555556,\"#d8576b\"],[0.6666666666666666,\"#ed7953\"],[0.7777777777777778,\"#fb9f3a\"],[0.8888888888888888,\"#fdca26\"],[1.0,\"#f0f921\"]],\"sequentialminus\":[[0.0,\"#0d0887\"],[0.1111111111111111,\"#46039f\"],[0.2222222222222222,\"#7201a8\"],[0.3333333333333333,\"#9c179e\"],[0.4444444444444444,\"#bd3786\"],[0.5555555555555556,\"#d8576b\"],[0.6666666666666666,\"#ed7953\"],[0.7777777777777778,\"#fb9f3a\"],[0.8888888888888888,\"#fdca26\"],[1.0,\"#f0f921\"]],\"diverging\":[[0,\"#8e0152\"],[0.1,\"#c51b7d\"],[0.2,\"#de77ae\"],[0.3,\"#f1b6da\"],[0.4,\"#fde0ef\"],[0.5,\"#f7f7f7\"],[0.6,\"#e6f5d0\"],[0.7,\"#b8e186\"],[0.8,\"#7fbc41\"],[0.9,\"#4d9221\"],[1,\"#276419\"]]},\"xaxis\":{\"gridcolor\":\"white\",\"linecolor\":\"white\",\"ticks\":\"\",\"title\":{\"standoff\":15},\"zerolinecolor\":\"white\",\"automargin\":true,\"zerolinewidth\":2},\"yaxis\":{\"gridcolor\":\"white\",\"linecolor\":\"white\",\"ticks\":\"\",\"title\":{\"standoff\":15},\"zerolinecolor\":\"white\",\"automargin\":true,\"zerolinewidth\":2},\"scene\":{\"xaxis\":{\"backgroundcolor\":\"#E5ECF6\",\"gridcolor\":\"white\",\"linecolor\":\"white\",\"showbackground\":true,\"ticks\":\"\",\"zerolinecolor\":\"white\",\"gridwidth\":2},\"yaxis\":{\"backgroundcolor\":\"#E5ECF6\",\"gridcolor\":\"white\",\"linecolor\":\"white\",\"showbackground\":true,\"ticks\":\"\",\"zerolinecolor\":\"white\",\"gridwidth\":2},\"zaxis\":{\"backgroundcolor\":\"#E5ECF6\",\"gridcolor\":\"white\",\"linecolor\":\"white\",\"showbackground\":true,\"ticks\":\"\",\"zerolinecolor\":\"white\",\"gridwidth\":2}},\"shapedefaults\":{\"line\":{\"color\":\"#2a3f5f\"}},\"annotationdefaults\":{\"arrowcolor\":\"#2a3f5f\",\"arrowhead\":0,\"arrowwidth\":1},\"geo\":{\"bgcolor\":\"white\",\"landcolor\":\"#E5ECF6\",\"subunitcolor\":\"white\",\"showland\":true,\"showlakes\":true,\"lakecolor\":\"white\"},\"title\":{\"x\":0.05},\"mapbox\":{\"style\":\"light\"}}},\"xaxis\":{\"anchor\":\"y\",\"domain\":[0.0,1.0],\"title\":{\"text\":\"population\"},\"type\":\"log\"},\"yaxis\":{\"anchor\":\"x\",\"domain\":[0.0,1.0],\"title\":{\"text\":\"life_expectancy\"}},\"legend\":{\"title\":{\"text\":\"continent\"},\"tracegroupgap\":0},\"title\":{\"text\":\"Life expectancy vs. population by continent\"}},                        {\"responsive\": true}                    ).then(function(){\n",
              "                            \n",
              "var gd = document.getElementById('5cd32de4-4c13-4851-a3f3-b6b5dd74fa4b');\n",
              "var x = new MutationObserver(function (mutations, observer) {{\n",
              "        var display = window.getComputedStyle(gd).display;\n",
              "        if (!display || display === 'none') {{\n",
              "            console.log([gd, 'removed!']);\n",
              "            Plotly.purge(gd);\n",
              "            observer.disconnect();\n",
              "        }}\n",
              "}});\n",
              "\n",
              "// Listen for the removal of the full notebook cells\n",
              "var notebookContainer = gd.closest('#notebook-container');\n",
              "if (notebookContainer) {{\n",
              "    x.observe(notebookContainer, {childList: true});\n",
              "}}\n",
              "\n",
              "// Listen for the clearing of the current output cell\n",
              "var outputEl = gd.closest('.output');\n",
              "if (outputEl) {{\n",
              "    x.observe(outputEl, {childList: true});\n",
              "}}\n",
              "\n",
              "                        })                };                            </script>        </div>\n",
              "</body>\n",
              "</html>"
            ]
          },
          "metadata": {}
        }
      ]
    },
    {
      "cell_type": "markdown",
      "source": [
        "# Analysis of COVID-19 new cases in Germany and Russia"
      ],
      "metadata": {
        "id": "UMHE3SOyL0b3"
      }
    },
    {
      "cell_type": "code",
      "source": [
        "df_new_cases = df[['location', 'date', 'new_cases']]\n",
        "countries = ['Germany', 'Russia']\n",
        "df_new_cases = df_new_cases[df_new_cases['location'].isin(countries)]"
      ],
      "metadata": {
        "id": "uZTvc4kX2lX8"
      },
      "execution_count": 12,
      "outputs": []
    },
    {
      "cell_type": "code",
      "source": [
        "ttl_cases_chart = px.line(data_frame=df_new_cases,\n",
        "                          x='date', y='new_cases',\n",
        "                          color='location',\n",
        "                          color_discrete_sequence=px.colors.qualitative.T10,\n",
        "                          title='COVID-19 - new cases daily in Russia and Germany')"
      ],
      "metadata": {
        "id": "3-7d_ASf2laj"
      },
      "execution_count": 13,
      "outputs": []
    },
    {
      "cell_type": "code",
      "source": [
        "ttl_cases_chart"
      ],
      "metadata": {
        "id": "Sj2vgivd3STb",
        "colab": {
          "base_uri": "https://localhost:8080/",
          "height": 542
        },
        "outputId": "32f3ec5c-897f-449c-eada-9ce6790daa2e"
      },
      "execution_count": 14,
      "outputs": [
        {
          "output_type": "display_data",
          "data": {
            "text/html": [
              "<html>\n",
              "<head><meta charset=\"utf-8\" /></head>\n",
              "<body>\n",
              "    <div>            <script src=\"https://cdnjs.cloudflare.com/ajax/libs/mathjax/2.7.5/MathJax.js?config=TeX-AMS-MML_SVG\"></script><script type=\"text/javascript\">if (window.MathJax && window.MathJax.Hub && window.MathJax.Hub.Config) {window.MathJax.Hub.Config({SVG: {font: \"STIX-Web\"}});}</script>                <script type=\"text/javascript\">window.PlotlyConfig = {MathJaxConfig: 'local'};</script>\n",
              "        <script charset=\"utf-8\" src=\"https://cdn.plot.ly/plotly-2.24.1.min.js\"></script>                <div id=\"e25c0837-ebc5-4876-8c5b-7e2e7f9ace98\" class=\"plotly-graph-div\" style=\"height:525px; width:100%;\"></div>            <script type=\"text/javascript\">                                    window.PLOTLYENV=window.PLOTLYENV || {};                                    if (document.getElementById(\"e25c0837-ebc5-4876-8c5b-7e2e7f9ace98\")) {                    Plotly.newPlot(                        \"e25c0837-ebc5-4876-8c5b-7e2e7f9ace98\",                        [{\"hovertemplate\":\"location=Germany\\u003cbr\\u003edate=%{x}\\u003cbr\\u003enew_cases=%{y}\\u003cextra\\u003e\\u003c\\u002fextra\\u003e\",\"legendgroup\":\"Germany\",\"line\":{\"color\":\"#4C78A8\",\"dash\":\"solid\"},\"marker\":{\"symbol\":\"circle\"},\"mode\":\"lines\",\"name\":\"Germany\",\"showlegend\":true,\"x\":[\"2020-01-27\",\"2020-01-28\",\"2020-01-29\",\"2020-01-30\",\"2020-01-31\",\"2020-02-01\",\"2020-02-02\",\"2020-02-03\",\"2020-02-04\",\"2020-02-05\",\"2020-02-06\",\"2020-02-07\",\"2020-02-08\",\"2020-02-09\",\"2020-02-10\",\"2020-02-11\",\"2020-02-12\",\"2020-02-13\",\"2020-02-14\",\"2020-02-15\",\"2020-02-16\",\"2020-02-17\",\"2020-02-18\",\"2020-02-19\",\"2020-02-20\",\"2020-02-21\",\"2020-02-22\",\"2020-02-23\",\"2020-02-24\",\"2020-02-25\",\"2020-02-26\",\"2020-02-27\",\"2020-02-28\",\"2020-02-29\",\"2020-03-01\",\"2020-03-02\",\"2020-03-03\",\"2020-03-04\",\"2020-03-05\",\"2020-03-06\",\"2020-03-07\",\"2020-03-08\",\"2020-03-09\",\"2020-03-10\",\"2020-03-11\",\"2020-03-12\",\"2020-03-13\",\"2020-03-14\",\"2020-03-15\",\"2020-03-16\",\"2020-03-17\",\"2020-03-18\",\"2020-03-19\",\"2020-03-20\",\"2020-03-21\",\"2020-03-22\",\"2020-03-23\",\"2020-03-24\",\"2020-03-25\",\"2020-03-26\",\"2020-03-27\",\"2020-03-28\",\"2020-03-29\",\"2020-03-30\",\"2020-03-31\",\"2020-04-01\",\"2020-04-02\",\"2020-04-03\",\"2020-04-04\",\"2020-04-05\",\"2020-04-06\",\"2020-04-07\",\"2020-04-08\",\"2020-04-09\",\"2020-04-10\",\"2020-04-11\",\"2020-04-12\",\"2020-04-13\",\"2020-04-14\",\"2020-04-15\",\"2020-04-16\",\"2020-04-17\",\"2020-04-18\",\"2020-04-19\",\"2020-04-20\",\"2020-04-21\",\"2020-04-22\",\"2020-04-23\",\"2020-04-24\",\"2020-04-25\",\"2020-04-26\",\"2020-04-27\",\"2020-04-28\",\"2020-04-29\",\"2020-04-30\",\"2020-05-01\",\"2020-05-02\",\"2020-05-03\",\"2020-05-04\",\"2020-05-05\",\"2020-05-06\",\"2020-05-07\",\"2020-05-08\",\"2020-05-09\",\"2020-05-10\",\"2020-05-11\",\"2020-05-12\",\"2020-05-13\",\"2020-05-14\",\"2020-05-15\",\"2020-05-16\",\"2020-05-17\",\"2020-05-18\",\"2020-05-19\",\"2020-05-20\",\"2020-05-21\",\"2020-05-22\",\"2020-05-23\",\"2020-05-24\",\"2020-05-25\",\"2020-05-26\",\"2020-05-27\",\"2020-05-28\",\"2020-05-29\",\"2020-05-30\",\"2020-05-31\",\"2020-06-01\",\"2020-06-02\",\"2020-06-03\",\"2020-06-04\",\"2020-06-05\",\"2020-06-06\",\"2020-06-07\",\"2020-06-08\",\"2020-06-09\",\"2020-06-10\",\"2020-06-11\",\"2020-06-12\",\"2020-06-13\",\"2020-06-14\",\"2020-06-15\",\"2020-06-16\",\"2020-06-17\",\"2020-06-18\",\"2020-06-19\",\"2020-06-20\",\"2020-06-21\",\"2020-06-22\",\"2020-06-23\",\"2020-06-24\",\"2020-06-25\",\"2020-06-26\",\"2020-06-27\",\"2020-06-28\",\"2020-06-29\",\"2020-06-30\",\"2020-07-01\",\"2020-07-02\",\"2020-07-03\",\"2020-07-04\",\"2020-07-05\",\"2020-07-06\",\"2020-07-07\",\"2020-07-08\",\"2020-07-09\",\"2020-07-10\",\"2020-07-11\",\"2020-07-12\",\"2020-07-13\",\"2020-07-14\",\"2020-07-15\",\"2020-07-16\",\"2020-07-17\",\"2020-07-18\",\"2020-07-19\",\"2020-07-20\",\"2020-07-21\",\"2020-07-22\",\"2020-07-23\",\"2020-07-24\",\"2020-07-25\",\"2020-07-26\",\"2020-07-27\",\"2020-07-28\",\"2020-07-29\",\"2020-07-30\",\"2020-07-31\",\"2020-08-01\",\"2020-08-02\",\"2020-08-03\",\"2020-08-04\",\"2020-08-05\",\"2020-08-06\",\"2020-08-07\",\"2020-08-08\",\"2020-08-09\",\"2020-08-10\",\"2020-08-11\",\"2020-08-12\",\"2020-08-13\",\"2020-08-14\",\"2020-08-15\",\"2020-08-16\",\"2020-08-17\",\"2020-08-18\",\"2020-08-19\",\"2020-08-20\",\"2020-08-21\",\"2020-08-22\",\"2020-08-23\",\"2020-08-24\",\"2020-08-25\",\"2020-08-26\",\"2020-08-27\",\"2020-08-28\",\"2020-08-29\",\"2020-08-30\",\"2020-08-31\",\"2020-09-01\",\"2020-09-02\",\"2020-09-03\",\"2020-09-04\",\"2020-09-05\",\"2020-09-06\",\"2020-09-07\",\"2020-09-08\",\"2020-09-09\",\"2020-09-10\",\"2020-09-11\",\"2020-09-12\",\"2020-09-13\",\"2020-09-14\",\"2020-09-15\",\"2020-09-16\",\"2020-09-17\",\"2020-09-18\",\"2020-09-19\",\"2020-09-20\",\"2020-09-21\",\"2020-09-22\",\"2020-09-23\",\"2020-09-24\",\"2020-09-25\",\"2020-09-26\",\"2020-09-27\",\"2020-09-28\",\"2020-09-29\",\"2020-09-30\",\"2020-10-01\",\"2020-10-02\",\"2020-10-03\",\"2020-10-04\",\"2020-10-05\",\"2020-10-06\",\"2020-10-07\",\"2020-10-08\",\"2020-10-09\",\"2020-10-10\",\"2020-10-11\",\"2020-10-12\",\"2020-10-13\",\"2020-10-14\",\"2020-10-15\",\"2020-10-16\",\"2020-10-17\",\"2020-10-18\",\"2020-10-19\",\"2020-10-20\",\"2020-10-21\",\"2020-10-22\",\"2020-10-23\",\"2020-10-24\",\"2020-10-25\",\"2020-10-26\",\"2020-10-27\",\"2020-10-28\",\"2020-10-29\",\"2020-10-30\",\"2020-10-31\",\"2020-11-01\",\"2020-11-02\",\"2020-11-03\",\"2020-11-04\",\"2020-11-05\",\"2020-11-06\",\"2020-11-07\",\"2020-11-08\",\"2020-11-09\",\"2020-11-10\",\"2020-11-11\",\"2020-11-12\",\"2020-11-13\",\"2020-11-14\",\"2020-11-15\",\"2020-11-16\",\"2020-11-17\",\"2020-11-18\",\"2020-11-19\",\"2020-11-20\",\"2020-11-21\",\"2020-11-22\",\"2020-11-23\",\"2020-11-24\",\"2020-11-25\",\"2020-11-26\",\"2020-11-27\",\"2020-11-28\",\"2020-11-29\",\"2020-11-30\",\"2020-12-01\",\"2020-12-02\",\"2020-12-03\",\"2020-12-04\",\"2020-12-05\",\"2020-12-06\",\"2020-12-07\",\"2020-12-08\",\"2020-12-09\",\"2020-12-10\",\"2020-12-11\",\"2020-12-12\",\"2020-12-13\",\"2020-12-14\",\"2020-12-15\",\"2020-12-16\",\"2020-12-17\",\"2020-12-18\",\"2020-12-19\",\"2020-12-20\",\"2020-12-21\",\"2020-12-22\",\"2020-12-23\",\"2020-12-24\",\"2020-12-25\",\"2020-12-26\",\"2020-12-27\",\"2020-12-28\",\"2020-12-29\",\"2020-12-30\",\"2020-12-31\",\"2021-01-01\",\"2021-01-02\",\"2021-01-03\",\"2021-01-04\",\"2021-01-05\",\"2021-01-06\",\"2021-01-07\",\"2021-01-08\",\"2021-01-09\",\"2021-01-10\",\"2021-01-11\",\"2021-01-12\",\"2021-01-13\",\"2021-01-14\",\"2021-01-15\",\"2021-01-16\",\"2021-01-17\",\"2021-01-18\",\"2021-01-19\",\"2021-01-20\",\"2021-01-21\",\"2021-01-22\",\"2021-01-23\",\"2021-01-24\",\"2021-01-25\",\"2021-01-26\",\"2021-01-27\",\"2021-01-28\",\"2021-01-29\",\"2021-01-30\",\"2021-01-31\",\"2021-02-01\",\"2021-02-02\",\"2021-02-03\",\"2021-02-04\",\"2021-02-05\",\"2021-02-06\",\"2021-02-07\",\"2021-02-08\",\"2021-02-09\",\"2021-02-10\",\"2021-02-11\",\"2021-02-12\",\"2021-02-13\",\"2021-02-14\",\"2021-02-15\",\"2021-02-16\",\"2021-02-17\",\"2021-02-18\",\"2021-02-19\",\"2021-02-20\",\"2021-02-21\",\"2021-02-22\",\"2021-02-23\",\"2021-02-24\",\"2021-02-25\",\"2021-02-26\",\"2021-02-27\",\"2021-02-28\",\"2021-03-01\",\"2021-03-02\",\"2021-03-03\",\"2021-03-04\",\"2021-03-05\",\"2021-03-06\",\"2021-03-07\",\"2021-03-08\",\"2021-03-09\",\"2021-03-10\",\"2021-03-11\",\"2021-03-12\",\"2021-03-13\",\"2021-03-14\",\"2021-03-15\",\"2021-03-16\",\"2021-03-17\",\"2021-03-18\",\"2021-03-19\",\"2021-03-20\",\"2021-03-21\",\"2021-03-22\",\"2021-03-23\",\"2021-03-24\",\"2021-03-25\",\"2021-03-26\",\"2021-03-27\",\"2021-03-28\",\"2021-03-29\",\"2021-03-30\",\"2021-03-31\",\"2021-04-01\",\"2021-04-02\",\"2021-04-03\",\"2021-04-04\",\"2021-04-05\",\"2021-04-06\",\"2021-04-07\",\"2021-04-08\",\"2021-04-09\",\"2021-04-10\",\"2021-04-11\",\"2021-04-12\",\"2021-04-13\",\"2021-04-14\",\"2021-04-15\",\"2021-04-16\",\"2021-04-17\",\"2021-04-18\",\"2021-04-19\",\"2021-04-20\",\"2021-04-21\",\"2021-04-22\",\"2021-04-23\",\"2021-04-24\",\"2021-04-25\",\"2021-04-26\",\"2021-04-27\",\"2021-04-28\",\"2021-04-29\",\"2021-04-30\",\"2021-05-01\",\"2021-05-02\",\"2021-05-03\",\"2021-05-04\",\"2021-05-05\",\"2021-05-06\",\"2021-05-07\",\"2021-05-08\",\"2021-05-09\",\"2021-05-10\",\"2021-05-11\",\"2021-05-12\",\"2021-05-13\",\"2021-05-14\",\"2021-05-15\",\"2021-05-16\",\"2021-05-17\",\"2021-05-18\",\"2021-05-19\",\"2021-05-20\",\"2021-05-21\",\"2021-05-22\",\"2021-05-23\",\"2021-05-24\",\"2021-05-25\",\"2021-05-26\",\"2021-05-27\",\"2021-05-28\",\"2021-05-29\",\"2021-05-30\",\"2021-05-31\",\"2021-06-01\",\"2021-06-02\",\"2021-06-03\",\"2021-06-04\",\"2021-06-05\",\"2021-06-06\",\"2021-06-07\",\"2021-06-08\",\"2021-06-09\",\"2021-06-10\",\"2021-06-11\",\"2021-06-12\",\"2021-06-13\",\"2021-06-14\",\"2021-06-15\",\"2021-06-16\",\"2021-06-17\",\"2021-06-18\",\"2021-06-19\",\"2021-06-20\",\"2021-06-21\",\"2021-06-22\",\"2021-06-23\",\"2021-06-24\",\"2021-06-25\",\"2021-06-26\",\"2021-06-27\",\"2021-06-28\",\"2021-06-29\",\"2021-06-30\",\"2021-07-01\",\"2021-07-02\",\"2021-07-03\",\"2021-07-04\",\"2021-07-05\",\"2021-07-06\",\"2021-07-07\",\"2021-07-08\",\"2021-07-09\",\"2021-07-10\",\"2021-07-11\",\"2021-07-12\",\"2021-07-13\",\"2021-07-14\",\"2021-07-15\",\"2021-07-16\",\"2021-07-17\",\"2021-07-18\",\"2021-07-19\",\"2021-07-20\",\"2021-07-21\",\"2021-07-22\",\"2021-07-23\",\"2021-07-24\",\"2021-07-25\",\"2021-07-26\",\"2021-07-27\",\"2021-07-28\",\"2021-07-29\",\"2021-07-30\",\"2021-07-31\",\"2021-08-01\",\"2021-08-02\",\"2021-08-03\",\"2021-08-04\",\"2021-08-05\",\"2021-08-06\",\"2021-08-07\",\"2021-08-08\",\"2021-08-09\",\"2021-08-10\",\"2021-08-11\",\"2021-08-12\",\"2021-08-13\",\"2021-08-14\",\"2021-08-15\",\"2021-08-16\",\"2021-08-17\",\"2021-08-18\",\"2021-08-19\",\"2021-08-20\",\"2021-08-21\",\"2021-08-22\",\"2021-08-23\",\"2021-08-24\",\"2021-08-25\",\"2021-08-26\",\"2021-08-27\",\"2021-08-28\",\"2021-08-29\",\"2021-08-30\",\"2021-08-31\",\"2021-09-01\",\"2021-09-02\",\"2021-09-03\",\"2021-09-04\",\"2021-09-05\",\"2021-09-06\",\"2021-09-07\",\"2021-09-08\",\"2021-09-09\",\"2021-09-10\",\"2021-09-11\",\"2021-09-12\",\"2021-09-13\",\"2021-09-14\",\"2021-09-15\",\"2021-09-16\",\"2021-09-17\",\"2021-09-18\",\"2021-09-19\",\"2021-09-20\",\"2021-09-21\",\"2021-09-22\",\"2021-09-23\",\"2021-09-24\",\"2021-09-25\",\"2021-09-26\",\"2021-09-27\",\"2021-09-28\",\"2021-09-29\",\"2021-09-30\",\"2021-10-01\",\"2021-10-02\",\"2021-10-03\",\"2021-10-04\",\"2021-10-05\",\"2021-10-06\",\"2021-10-07\",\"2021-10-08\",\"2021-10-09\",\"2021-10-10\",\"2021-10-11\",\"2021-10-12\",\"2021-10-13\",\"2021-10-14\",\"2021-10-15\",\"2021-10-16\",\"2021-10-17\",\"2021-10-18\",\"2021-10-19\",\"2021-10-20\",\"2021-10-21\",\"2021-10-22\",\"2021-10-23\",\"2021-10-24\",\"2021-10-25\",\"2021-10-26\",\"2021-10-27\",\"2021-10-28\",\"2021-10-29\",\"2021-10-30\",\"2021-10-31\",\"2021-11-01\",\"2021-11-02\",\"2021-11-03\",\"2021-11-04\",\"2021-11-05\",\"2021-11-06\",\"2021-11-07\",\"2021-11-08\",\"2021-11-09\",\"2021-11-10\",\"2021-11-11\",\"2021-11-12\",\"2021-11-13\",\"2021-11-14\",\"2021-11-15\",\"2021-11-16\",\"2021-11-17\",\"2021-11-18\",\"2021-11-19\",\"2021-11-20\",\"2021-11-21\",\"2021-11-22\",\"2021-11-23\",\"2021-11-24\",\"2021-11-25\",\"2021-11-26\",\"2021-11-27\",\"2021-11-28\",\"2021-11-29\",\"2021-11-30\",\"2021-12-01\",\"2021-12-02\",\"2021-12-03\",\"2021-12-04\",\"2021-12-05\",\"2021-12-06\",\"2021-12-07\",\"2021-12-08\",\"2021-12-09\",\"2021-12-10\",\"2021-12-11\",\"2021-12-12\",\"2021-12-13\",\"2021-12-14\",\"2021-12-15\",\"2021-12-16\",\"2021-12-17\",\"2021-12-18\",\"2021-12-19\",\"2021-12-20\",\"2021-12-21\",\"2021-12-22\",\"2021-12-23\",\"2021-12-24\",\"2021-12-25\",\"2021-12-26\",\"2021-12-27\",\"2021-12-28\",\"2021-12-29\",\"2021-12-30\",\"2021-12-31\",\"2022-01-01\",\"2022-01-02\",\"2022-01-03\",\"2022-01-04\",\"2022-01-05\",\"2022-01-06\",\"2022-01-07\",\"2022-01-08\",\"2022-01-09\",\"2022-01-10\",\"2022-01-11\",\"2022-01-12\",\"2022-01-13\",\"2022-01-14\",\"2022-01-15\",\"2022-01-16\",\"2022-01-17\",\"2022-01-18\",\"2022-01-19\",\"2022-01-20\",\"2022-01-21\",\"2022-01-22\",\"2022-01-23\",\"2022-01-24\",\"2022-01-25\",\"2022-01-26\",\"2022-01-27\",\"2022-01-28\",\"2022-01-29\",\"2022-01-30\",\"2022-01-31\",\"2022-02-01\",\"2022-02-02\",\"2022-02-03\",\"2022-02-04\",\"2022-02-05\",\"2022-02-06\",\"2022-02-07\",\"2022-02-08\",\"2022-02-09\",\"2022-02-10\",\"2022-02-11\",\"2022-02-12\",\"2022-02-13\",\"2022-02-14\",\"2022-02-15\",\"2022-02-16\",\"2022-02-17\",\"2022-02-18\",\"2022-02-19\",\"2022-02-20\",\"2022-02-21\",\"2022-02-22\",\"2022-02-23\",\"2022-02-24\",\"2022-02-25\",\"2022-02-26\",\"2022-02-27\",\"2022-02-28\",\"2022-03-01\",\"2022-03-02\",\"2022-03-03\",\"2022-03-04\",\"2022-03-05\",\"2022-03-06\",\"2022-03-07\",\"2022-03-08\",\"2022-03-09\",\"2022-03-10\",\"2022-03-11\",\"2022-03-12\",\"2022-03-13\",\"2022-03-14\",\"2022-03-15\",\"2022-03-16\",\"2022-03-17\",\"2022-03-18\",\"2022-03-19\",\"2022-03-20\",\"2022-03-21\",\"2022-03-22\",\"2022-03-23\",\"2022-03-24\",\"2022-03-25\",\"2022-03-26\",\"2022-03-27\",\"2022-03-28\",\"2022-03-29\",\"2022-03-30\",\"2022-03-31\",\"2022-04-01\",\"2022-04-02\",\"2022-04-03\",\"2022-04-04\",\"2022-04-05\",\"2022-04-06\",\"2022-04-07\",\"2022-04-08\",\"2022-04-09\",\"2022-04-10\",\"2022-04-11\",\"2022-04-12\",\"2022-04-13\",\"2022-04-14\",\"2022-04-15\",\"2022-04-16\",\"2022-04-17\",\"2022-04-18\",\"2022-04-19\",\"2022-04-20\",\"2022-04-21\",\"2022-04-22\",\"2022-04-23\",\"2022-04-24\",\"2022-04-25\",\"2022-04-26\",\"2022-04-27\",\"2022-04-28\",\"2022-04-29\",\"2022-04-30\",\"2022-05-01\",\"2022-05-02\",\"2022-05-03\",\"2022-05-04\",\"2022-05-05\",\"2022-05-06\",\"2022-05-07\",\"2022-05-08\",\"2022-05-09\",\"2022-05-10\",\"2022-05-11\",\"2022-05-12\",\"2022-05-13\",\"2022-05-14\",\"2022-05-15\",\"2022-05-16\",\"2022-05-17\",\"2022-05-18\",\"2022-05-19\",\"2022-05-20\",\"2022-05-21\",\"2022-05-22\",\"2022-05-23\",\"2022-05-24\",\"2022-05-25\",\"2022-05-26\",\"2022-05-27\",\"2022-05-28\",\"2022-05-29\",\"2022-05-30\",\"2022-05-31\",\"2022-06-01\",\"2022-06-02\",\"2022-06-03\",\"2022-06-04\",\"2022-06-05\",\"2022-06-06\",\"2022-06-07\",\"2022-06-08\",\"2022-06-09\",\"2022-06-10\",\"2022-06-11\",\"2022-06-12\",\"2022-06-13\",\"2022-06-14\",\"2022-06-15\",\"2022-06-16\",\"2022-06-17\",\"2022-06-18\"],\"xaxis\":\"x\",\"y\":[1.0,3.0,0.0,0.0,1.0,3.0,2.0,2.0,0.0,0.0,0.0,1.0,0.0,1.0,0.0,2.0,0.0,0.0,0.0,0.0,0.0,0.0,0.0,0.0,0.0,0.0,0.0,0.0,0.0,0.0,5.0,5.0,27.0,13.0,51.0,33.0,38.0,52.0,109.0,185.0,150.0,163.0,265.0,184.0,271.0,802.0,693.0,733.0,1043.0,1174.0,1144.0,1042.0,2801.0,2958.0,2705.0,1948.0,4062.0,4764.0,4118.0,4954.0,5780.0,6294.0,3965.0,4751.0,4615.0,5453.0,6156.0,6174.0,6082.0,5936.0,3677.0,3834.0,4003.0,4974.0,5323.0,4133.0,2821.0,2537.0,2082.0,2486.0,2866.0,3380.0,3609.0,2458.0,1775.0,1785.0,2237.0,2352.0,2337.0,2055.0,1737.0,1018.0,1144.0,1304.0,1478.0,1639.0,945.0,793.0,679.0,685.0,947.0,1284.0,1209.0,1251.0,667.0,357.0,933.0,798.0,933.0,913.0,620.0,583.0,342.0,513.0,797.0,745.0,460.0,638.0,431.0,289.0,432.0,362.0,353.0,741.0,738.0,286.0,333.0,213.0,342.0,394.0,507.0,407.0,301.0,214.0,350.0,318.0,555.0,258.0,348.0,247.0,192.0,378.0,345.0,580.0,770.0,601.0,687.0,537.0,503.0,587.0,630.0,477.0,687.0,256.0,262.0,498.0,466.0,503.0,446.0,422.0,239.0,219.0,390.0,397.0,442.0,395.0,378.0,248.0,159.0,412.0,351.0,534.0,583.0,529.0,202.0,249.0,522.0,454.0,569.0,815.0,781.0,305.0,340.0,633.0,684.0,902.0,870.0,955.0,240.0,509.0,879.0,741.0,1045.0,1147.0,1122.0,555.0,436.0,966.0,1226.0,1445.0,1449.0,1415.0,625.0,561.0,1390.0,1510.0,1707.0,1427.0,2034.0,782.0,711.0,1278.0,1576.0,1507.0,1571.0,1479.0,785.0,610.0,1218.0,1256.0,1311.0,1453.0,1378.0,988.0,814.0,1499.0,1176.0,1892.0,1484.0,1630.0,948.0,927.0,1407.0,1901.0,2194.0,1916.0,2297.0,1345.0,922.0,1821.0,1769.0,2143.0,2153.0,2507.0,1410.0,1192.0,2089.0,1798.0,2503.0,2673.0,2563.0,2279.0,1382.0,2639.0,2828.0,4058.0,4516.0,4721.0,3483.0,2467.0,4122.0,5132.0,6638.0,7334.0,7830.0,5587.0,4325.0,6868.0,7595.0,11287.0,11242.0,14714.0,11176.0,8685.0,11409.0,14964.0,16774.0,18681.0,19059.0,14177.0,12097.0,15352.0,17214.0,19990.0,21506.0,23399.0,16017.0,13363.0,15332.0,18487.0,21866.0,23542.0,22461.0,16947.0,10824.0,14419.0,17561.0,22609.0,23648.0,22964.0,15741.0,10864.0,13554.0,18633.0,22268.0,22806.0,21695.0,14611.0,11169.0,13604.0,17270.0,22046.0,23449.0,23318.0,17767.0,12332.0,14054.0,20815.0,23679.0,29875.0,28438.0,20200.0,16362.0,14432.0,27728.0,26923.0,33777.0,31300.0,22771.0,16643.0,19528.0,24740.0,32195.0,25533.0,14455.0,13755.0,10976.0,12892.0,22459.0,32552.0,22924.0,12690.0,10315.0,9847.0,11897.0,21237.0,26391.0,31849.0,24694.0,16946.0,12497.0,12802.0,19600.0,25164.0,22368.0,18678.0,13882.0,7141.0,11369.0,15974.0,20398.0,17862.0,16417.0,12257.0,6729.0,6412.0,13198.0,17553.0,14022.0,12321.0,11192.0,5608.0,6114.0,9705.0,14211.0,12908.0,10485.0,8616.0,4535.0,3379.0,8072.0,10237.0,9860.0,8354.0,6114.0,4426.0,3856.0,7556.0,10207.0,9113.0,9164.0,7676.0,4369.0,3883.0,8007.0,11869.0,9997.0,9762.0,7890.0,4732.0,3943.0,9019.0,11912.0,10580.0,9557.0,8103.0,5011.0,4252.0,9146.0,14356.0,12834.0,12674.0,10790.0,6604.0,5480.0,13435.0,17504.0,17482.0,16033.0,13733.0,7709.0,7485.0,15813.0,22657.0,21573.0,20472.0,17176.0,9872.0,9549.0,17051.0,24300.0,21888.0,18129.0,12196.0,8497.0,6885.0,9677.0,20407.0,25464.0,24097.0,17855.0,13245.0,10810.0,21693.0,29426.0,25831.0,23804.0,19185.0,11437.0,9609.0,24884.0,29518.0,27543.0,23392.0,18773.0,11907.0,10976.0,22231.0,24736.0,24329.0,18935.0,16290.0,9160.0,7534.0,18034.0,21953.0,18485.0,15685.0,12656.0,6922.0,6125.0,14909.0,17419.0,11336.0,7894.0,8500.0,5412.0,4209.0,11040.0,12298.0,8769.0,7082.0,6714.0,2682.0,1911.0,2626.0,6313.0,7380.0,5426.0,3852.0,1978.0,1785.0,4917.0,4640.0,3165.0,2294.0,2440.0,1117.0,1204.0,3254.0,3187.0,2440.0,1911.0,1489.0,549.0,652.0,1455.0,1330.0,1076.0,1108.0,842.0,346.0,455.0,1016.0,1008.0,774.0,592.0,538.0,219.0,404.0,808.0,892.0,649.0,671.0,559.0,212.0,440.0,985.0,970.0,949.0,952.0,745.0,324.0,646.0,1548.0,1642.0,1456.0,1608.0,1292.0,546.0,1183.0,2203.0,1890.0,2089.0,1919.0,1387.0,958.0,1545.0,2768.0,3142.0,2454.0,2400.0,2097.0,847.0,1766.0,3571.0,3539.0,3448.0,3206.0,3127.0,1183.0,2480.0,4996.0,5638.0,5578.0,5644.0,4728.0,2126.0,3912.0,8324.0,8400.0,9280.0,8092.0,7050.0,3668.0,5747.0,11561.0,12626.0,12029.0,10303.0,8416.0,4559.0,5750.0,13531.0,13715.0,14251.0,10835.0,10453.0,4749.0,6726.0,13565.0,15431.0,12969.0,11214.0,7345.0,5511.0,6325.0,12455.0,12925.0,11022.0,8901.0,7337.0,3736.0,4664.0,10454.0,10696.0,9727.0,7211.0,7774.0,3022.0,4171.0,11780.0,12150.0,10118.0,8517.0,6164.0,3088.0,4799.0,11547.0,11644.0,10429.0,8854.0,7612.0,3111.0,4971.0,11903.0,12382.0,11518.0,10949.0,8682.0,4056.0,6771.0,17015.0,16077.0,19572.0,15145.0,13732.0,6573.0,10473.0,23212.0,28037.0,24668.0,21543.0,16887.0,9658.0,10813.0,20398.0,33949.0,37120.0,34002.0,23543.0,15513.0,21832.0,39676.0,50196.0,48640.0,45081.0,33498.0,23607.0,32048.0,52826.0,65371.0,52970.0,63924.0,42727.0,30643.0,45326.0,66884.0,75961.0,76414.0,67125.0,44401.0,29364.0,45753.0,67186.0,73209.0,74352.0,64510.0,42055.0,27836.0,36059.0,69601.0,70611.0,61288.0,53697.0,32646.0,21743.0,30823.0,51301.0,56677.0,50968.0,42813.0,29348.0,16086.0,23428.0,45659.0,44927.0,35431.0,22214.0,10100.0,13908.0,21080.0,40043.0,42770.0,41240.0,26392.0,12515.0,18518.0,30561.0,58912.0,64340.0,56335.0,55889.0,36552.0,25255.0,45690.0,80430.0,81417.0,92223.0,78022.0,52504.0,34145.0,74405.0,112323.0,133536.0,140160.0,135461.0,85440.0,63393.0,126955.0,164000.0,203136.0,190148.0,189166.0,118970.0,78318.0,162613.0,208498.0,236120.0,248838.0,217815.0,133173.0,95267.0,169571.0,234250.0,247862.0,240172.0,209789.0,125160.0,76465.0,159217.0,219972.0,235626.0,220048.0,189105.0,118032.0,73867.0,125902.0,209052.0,216322.0,210743.0,175833.0,107913.0,62349.0,122111.0,186406.0,210673.0,217593.0,192210.0,116889.0,78428.0,156799.0,215854.0,262752.0,252836.0,237086.0,146607.0,92378.0,198888.0,262593.0,294931.0,297845.0,260239.0,131792.0,92314.0,222080.0,283732.0,318387.0,296498.0,252026.0,111224.0,67501.0,237352.0,268477.0,527487.0,null,196456.0,115182.0,0.0,180397.0,416714.0,175263.0,150675.0,55471.0,30789.0,200442.0,138651.0,165368.0,156864.0,37568.0,39784.0,20482.0,22483.0,198583.0,186325.0,161718.0,135079.0,39179.0,20084.0,136798.0,0.0,271765.0,101610.0,87298.0,11718.0,4032.0,113522.0,106631.0,96167.0,85073.0,72252.0,8488.0,3350.0,107568.0,97010.0,88961.0,68999.0,61859.0,6151.0,2305.0,86252.0,72051.0,58719.0,48910.0,42375.0,3823.0,1245.0,64437.0,49141.0,39705.0,1852.0,39976.0,2713.0,755.0,61889.0,54957.0,48502.0,42693.0,41087.0,0.0,3376.0,1750.0,84655.0,77636.0,77878.0,65337.0,0.0,5378.0,105840.0,92344.0,89142.0,28118.0,80264.0,2.0],\"yaxis\":\"y\",\"type\":\"scattergl\"},{\"hovertemplate\":\"location=Russia\\u003cbr\\u003edate=%{x}\\u003cbr\\u003enew_cases=%{y}\\u003cextra\\u003e\\u003c\\u002fextra\\u003e\",\"legendgroup\":\"Russia\",\"line\":{\"color\":\"#F58518\",\"dash\":\"solid\"},\"marker\":{\"symbol\":\"circle\"},\"mode\":\"lines\",\"name\":\"Russia\",\"showlegend\":true,\"x\":[\"2020-01-31\",\"2020-02-01\",\"2020-02-02\",\"2020-02-03\",\"2020-02-04\",\"2020-02-05\",\"2020-02-06\",\"2020-02-07\",\"2020-02-08\",\"2020-02-09\",\"2020-02-10\",\"2020-02-11\",\"2020-02-12\",\"2020-02-13\",\"2020-02-14\",\"2020-02-15\",\"2020-02-16\",\"2020-02-17\",\"2020-02-18\",\"2020-02-19\",\"2020-02-20\",\"2020-02-21\",\"2020-02-22\",\"2020-02-23\",\"2020-02-24\",\"2020-02-25\",\"2020-02-26\",\"2020-02-27\",\"2020-02-28\",\"2020-02-29\",\"2020-03-01\",\"2020-03-02\",\"2020-03-03\",\"2020-03-04\",\"2020-03-05\",\"2020-03-06\",\"2020-03-07\",\"2020-03-08\",\"2020-03-09\",\"2020-03-10\",\"2020-03-11\",\"2020-03-12\",\"2020-03-13\",\"2020-03-14\",\"2020-03-15\",\"2020-03-16\",\"2020-03-17\",\"2020-03-18\",\"2020-03-19\",\"2020-03-20\",\"2020-03-21\",\"2020-03-22\",\"2020-03-23\",\"2020-03-24\",\"2020-03-25\",\"2020-03-26\",\"2020-03-27\",\"2020-03-28\",\"2020-03-29\",\"2020-03-30\",\"2020-03-31\",\"2020-04-01\",\"2020-04-02\",\"2020-04-03\",\"2020-04-04\",\"2020-04-05\",\"2020-04-06\",\"2020-04-07\",\"2020-04-08\",\"2020-04-09\",\"2020-04-10\",\"2020-04-11\",\"2020-04-12\",\"2020-04-13\",\"2020-04-14\",\"2020-04-15\",\"2020-04-16\",\"2020-04-17\",\"2020-04-18\",\"2020-04-19\",\"2020-04-20\",\"2020-04-21\",\"2020-04-22\",\"2020-04-23\",\"2020-04-24\",\"2020-04-25\",\"2020-04-26\",\"2020-04-27\",\"2020-04-28\",\"2020-04-29\",\"2020-04-30\",\"2020-05-01\",\"2020-05-02\",\"2020-05-03\",\"2020-05-04\",\"2020-05-05\",\"2020-05-06\",\"2020-05-07\",\"2020-05-08\",\"2020-05-09\",\"2020-05-10\",\"2020-05-11\",\"2020-05-12\",\"2020-05-13\",\"2020-05-14\",\"2020-05-15\",\"2020-05-16\",\"2020-05-17\",\"2020-05-18\",\"2020-05-19\",\"2020-05-20\",\"2020-05-21\",\"2020-05-22\",\"2020-05-23\",\"2020-05-24\",\"2020-05-25\",\"2020-05-26\",\"2020-05-27\",\"2020-05-28\",\"2020-05-29\",\"2020-05-30\",\"2020-05-31\",\"2020-06-01\",\"2020-06-02\",\"2020-06-03\",\"2020-06-04\",\"2020-06-05\",\"2020-06-06\",\"2020-06-07\",\"2020-06-08\",\"2020-06-09\",\"2020-06-10\",\"2020-06-11\",\"2020-06-12\",\"2020-06-13\",\"2020-06-14\",\"2020-06-15\",\"2020-06-16\",\"2020-06-17\",\"2020-06-18\",\"2020-06-19\",\"2020-06-20\",\"2020-06-21\",\"2020-06-22\",\"2020-06-23\",\"2020-06-24\",\"2020-06-25\",\"2020-06-26\",\"2020-06-27\",\"2020-06-28\",\"2020-06-29\",\"2020-06-30\",\"2020-07-01\",\"2020-07-02\",\"2020-07-03\",\"2020-07-04\",\"2020-07-05\",\"2020-07-06\",\"2020-07-07\",\"2020-07-08\",\"2020-07-09\",\"2020-07-10\",\"2020-07-11\",\"2020-07-12\",\"2020-07-13\",\"2020-07-14\",\"2020-07-15\",\"2020-07-16\",\"2020-07-17\",\"2020-07-18\",\"2020-07-19\",\"2020-07-20\",\"2020-07-21\",\"2020-07-22\",\"2020-07-23\",\"2020-07-24\",\"2020-07-25\",\"2020-07-26\",\"2020-07-27\",\"2020-07-28\",\"2020-07-29\",\"2020-07-30\",\"2020-07-31\",\"2020-08-01\",\"2020-08-02\",\"2020-08-03\",\"2020-08-04\",\"2020-08-05\",\"2020-08-06\",\"2020-08-07\",\"2020-08-08\",\"2020-08-09\",\"2020-08-10\",\"2020-08-11\",\"2020-08-12\",\"2020-08-13\",\"2020-08-14\",\"2020-08-15\",\"2020-08-16\",\"2020-08-17\",\"2020-08-18\",\"2020-08-19\",\"2020-08-20\",\"2020-08-21\",\"2020-08-22\",\"2020-08-23\",\"2020-08-24\",\"2020-08-25\",\"2020-08-26\",\"2020-08-27\",\"2020-08-28\",\"2020-08-29\",\"2020-08-30\",\"2020-08-31\",\"2020-09-01\",\"2020-09-02\",\"2020-09-03\",\"2020-09-04\",\"2020-09-05\",\"2020-09-06\",\"2020-09-07\",\"2020-09-08\",\"2020-09-09\",\"2020-09-10\",\"2020-09-11\",\"2020-09-12\",\"2020-09-13\",\"2020-09-14\",\"2020-09-15\",\"2020-09-16\",\"2020-09-17\",\"2020-09-18\",\"2020-09-19\",\"2020-09-20\",\"2020-09-21\",\"2020-09-22\",\"2020-09-23\",\"2020-09-24\",\"2020-09-25\",\"2020-09-26\",\"2020-09-27\",\"2020-09-28\",\"2020-09-29\",\"2020-09-30\",\"2020-10-01\",\"2020-10-02\",\"2020-10-03\",\"2020-10-04\",\"2020-10-05\",\"2020-10-06\",\"2020-10-07\",\"2020-10-08\",\"2020-10-09\",\"2020-10-10\",\"2020-10-11\",\"2020-10-12\",\"2020-10-13\",\"2020-10-14\",\"2020-10-15\",\"2020-10-16\",\"2020-10-17\",\"2020-10-18\",\"2020-10-19\",\"2020-10-20\",\"2020-10-21\",\"2020-10-22\",\"2020-10-23\",\"2020-10-24\",\"2020-10-25\",\"2020-10-26\",\"2020-10-27\",\"2020-10-28\",\"2020-10-29\",\"2020-10-30\",\"2020-10-31\",\"2020-11-01\",\"2020-11-02\",\"2020-11-03\",\"2020-11-04\",\"2020-11-05\",\"2020-11-06\",\"2020-11-07\",\"2020-11-08\",\"2020-11-09\",\"2020-11-10\",\"2020-11-11\",\"2020-11-12\",\"2020-11-13\",\"2020-11-14\",\"2020-11-15\",\"2020-11-16\",\"2020-11-17\",\"2020-11-18\",\"2020-11-19\",\"2020-11-20\",\"2020-11-21\",\"2020-11-22\",\"2020-11-23\",\"2020-11-24\",\"2020-11-25\",\"2020-11-26\",\"2020-11-27\",\"2020-11-28\",\"2020-11-29\",\"2020-11-30\",\"2020-12-01\",\"2020-12-02\",\"2020-12-03\",\"2020-12-04\",\"2020-12-05\",\"2020-12-06\",\"2020-12-07\",\"2020-12-08\",\"2020-12-09\",\"2020-12-10\",\"2020-12-11\",\"2020-12-12\",\"2020-12-13\",\"2020-12-14\",\"2020-12-15\",\"2020-12-16\",\"2020-12-17\",\"2020-12-18\",\"2020-12-19\",\"2020-12-20\",\"2020-12-21\",\"2020-12-22\",\"2020-12-23\",\"2020-12-24\",\"2020-12-25\",\"2020-12-26\",\"2020-12-27\",\"2020-12-28\",\"2020-12-29\",\"2020-12-30\",\"2020-12-31\",\"2021-01-01\",\"2021-01-02\",\"2021-01-03\",\"2021-01-04\",\"2021-01-05\",\"2021-01-06\",\"2021-01-07\",\"2021-01-08\",\"2021-01-09\",\"2021-01-10\",\"2021-01-11\",\"2021-01-12\",\"2021-01-13\",\"2021-01-14\",\"2021-01-15\",\"2021-01-16\",\"2021-01-17\",\"2021-01-18\",\"2021-01-19\",\"2021-01-20\",\"2021-01-21\",\"2021-01-22\",\"2021-01-23\",\"2021-01-24\",\"2021-01-25\",\"2021-01-26\",\"2021-01-27\",\"2021-01-28\",\"2021-01-29\",\"2021-01-30\",\"2021-01-31\",\"2021-02-01\",\"2021-02-02\",\"2021-02-03\",\"2021-02-04\",\"2021-02-05\",\"2021-02-06\",\"2021-02-07\",\"2021-02-08\",\"2021-02-09\",\"2021-02-10\",\"2021-02-11\",\"2021-02-12\",\"2021-02-13\",\"2021-02-14\",\"2021-02-15\",\"2021-02-16\",\"2021-02-17\",\"2021-02-18\",\"2021-02-19\",\"2021-02-20\",\"2021-02-21\",\"2021-02-22\",\"2021-02-23\",\"2021-02-24\",\"2021-02-25\",\"2021-02-26\",\"2021-02-27\",\"2021-02-28\",\"2021-03-01\",\"2021-03-02\",\"2021-03-03\",\"2021-03-04\",\"2021-03-05\",\"2021-03-06\",\"2021-03-07\",\"2021-03-08\",\"2021-03-09\",\"2021-03-10\",\"2021-03-11\",\"2021-03-12\",\"2021-03-13\",\"2021-03-14\",\"2021-03-15\",\"2021-03-16\",\"2021-03-17\",\"2021-03-18\",\"2021-03-19\",\"2021-03-20\",\"2021-03-21\",\"2021-03-22\",\"2021-03-23\",\"2021-03-24\",\"2021-03-25\",\"2021-03-26\",\"2021-03-27\",\"2021-03-28\",\"2021-03-29\",\"2021-03-30\",\"2021-03-31\",\"2021-04-01\",\"2021-04-02\",\"2021-04-03\",\"2021-04-04\",\"2021-04-05\",\"2021-04-06\",\"2021-04-07\",\"2021-04-08\",\"2021-04-09\",\"2021-04-10\",\"2021-04-11\",\"2021-04-12\",\"2021-04-13\",\"2021-04-14\",\"2021-04-15\",\"2021-04-16\",\"2021-04-17\",\"2021-04-18\",\"2021-04-19\",\"2021-04-20\",\"2021-04-21\",\"2021-04-22\",\"2021-04-23\",\"2021-04-24\",\"2021-04-25\",\"2021-04-26\",\"2021-04-27\",\"2021-04-28\",\"2021-04-29\",\"2021-04-30\",\"2021-05-01\",\"2021-05-02\",\"2021-05-03\",\"2021-05-04\",\"2021-05-05\",\"2021-05-06\",\"2021-05-07\",\"2021-05-08\",\"2021-05-09\",\"2021-05-10\",\"2021-05-11\",\"2021-05-12\",\"2021-05-13\",\"2021-05-14\",\"2021-05-15\",\"2021-05-16\",\"2021-05-17\",\"2021-05-18\",\"2021-05-19\",\"2021-05-20\",\"2021-05-21\",\"2021-05-22\",\"2021-05-23\",\"2021-05-24\",\"2021-05-25\",\"2021-05-26\",\"2021-05-27\",\"2021-05-28\",\"2021-05-29\",\"2021-05-30\",\"2021-05-31\",\"2021-06-01\",\"2021-06-02\",\"2021-06-03\",\"2021-06-04\",\"2021-06-05\",\"2021-06-06\",\"2021-06-07\",\"2021-06-08\",\"2021-06-09\",\"2021-06-10\",\"2021-06-11\",\"2021-06-12\",\"2021-06-13\",\"2021-06-14\",\"2021-06-15\",\"2021-06-16\",\"2021-06-17\",\"2021-06-18\",\"2021-06-19\",\"2021-06-20\",\"2021-06-21\",\"2021-06-22\",\"2021-06-23\",\"2021-06-24\",\"2021-06-25\",\"2021-06-26\",\"2021-06-27\",\"2021-06-28\",\"2021-06-29\",\"2021-06-30\",\"2021-07-01\",\"2021-07-02\",\"2021-07-03\",\"2021-07-04\",\"2021-07-05\",\"2021-07-06\",\"2021-07-07\",\"2021-07-08\",\"2021-07-09\",\"2021-07-10\",\"2021-07-11\",\"2021-07-12\",\"2021-07-13\",\"2021-07-14\",\"2021-07-15\",\"2021-07-16\",\"2021-07-17\",\"2021-07-18\",\"2021-07-19\",\"2021-07-20\",\"2021-07-21\",\"2021-07-22\",\"2021-07-23\",\"2021-07-24\",\"2021-07-25\",\"2021-07-26\",\"2021-07-27\",\"2021-07-28\",\"2021-07-29\",\"2021-07-30\",\"2021-07-31\",\"2021-08-01\",\"2021-08-02\",\"2021-08-03\",\"2021-08-04\",\"2021-08-05\",\"2021-08-06\",\"2021-08-07\",\"2021-08-08\",\"2021-08-09\",\"2021-08-10\",\"2021-08-11\",\"2021-08-12\",\"2021-08-13\",\"2021-08-14\",\"2021-08-15\",\"2021-08-16\",\"2021-08-17\",\"2021-08-18\",\"2021-08-19\",\"2021-08-20\",\"2021-08-21\",\"2021-08-22\",\"2021-08-23\",\"2021-08-24\",\"2021-08-25\",\"2021-08-26\",\"2021-08-27\",\"2021-08-28\",\"2021-08-29\",\"2021-08-30\",\"2021-08-31\",\"2021-09-01\",\"2021-09-02\",\"2021-09-03\",\"2021-09-04\",\"2021-09-05\",\"2021-09-06\",\"2021-09-07\",\"2021-09-08\",\"2021-09-09\",\"2021-09-10\",\"2021-09-11\",\"2021-09-12\",\"2021-09-13\",\"2021-09-14\",\"2021-09-15\",\"2021-09-16\",\"2021-09-17\",\"2021-09-18\",\"2021-09-19\",\"2021-09-20\",\"2021-09-21\",\"2021-09-22\",\"2021-09-23\",\"2021-09-24\",\"2021-09-25\",\"2021-09-26\",\"2021-09-27\",\"2021-09-28\",\"2021-09-29\",\"2021-09-30\",\"2021-10-01\",\"2021-10-02\",\"2021-10-03\",\"2021-10-04\",\"2021-10-05\",\"2021-10-06\",\"2021-10-07\",\"2021-10-08\",\"2021-10-09\",\"2021-10-10\",\"2021-10-11\",\"2021-10-12\",\"2021-10-13\",\"2021-10-14\",\"2021-10-15\",\"2021-10-16\",\"2021-10-17\",\"2021-10-18\",\"2021-10-19\",\"2021-10-20\",\"2021-10-21\",\"2021-10-22\",\"2021-10-23\",\"2021-10-24\",\"2021-10-25\",\"2021-10-26\",\"2021-10-27\",\"2021-10-28\",\"2021-10-29\",\"2021-10-30\",\"2021-10-31\",\"2021-11-01\",\"2021-11-02\",\"2021-11-03\",\"2021-11-04\",\"2021-11-05\",\"2021-11-06\",\"2021-11-07\",\"2021-11-08\",\"2021-11-09\",\"2021-11-10\",\"2021-11-11\",\"2021-11-12\",\"2021-11-13\",\"2021-11-14\",\"2021-11-15\",\"2021-11-16\",\"2021-11-17\",\"2021-11-18\",\"2021-11-19\",\"2021-11-20\",\"2021-11-21\",\"2021-11-22\",\"2021-11-23\",\"2021-11-24\",\"2021-11-25\",\"2021-11-26\",\"2021-11-27\",\"2021-11-28\",\"2021-11-29\",\"2021-11-30\",\"2021-12-01\",\"2021-12-02\",\"2021-12-03\",\"2021-12-04\",\"2021-12-05\",\"2021-12-06\",\"2021-12-07\",\"2021-12-08\",\"2021-12-09\",\"2021-12-10\",\"2021-12-11\",\"2021-12-12\",\"2021-12-13\",\"2021-12-14\",\"2021-12-15\",\"2021-12-16\",\"2021-12-17\",\"2021-12-18\",\"2021-12-19\",\"2021-12-20\",\"2021-12-21\",\"2021-12-22\",\"2021-12-23\",\"2021-12-24\",\"2021-12-25\",\"2021-12-26\",\"2021-12-27\",\"2021-12-28\",\"2021-12-29\",\"2021-12-30\",\"2021-12-31\",\"2022-01-01\",\"2022-01-02\",\"2022-01-03\",\"2022-01-04\",\"2022-01-05\",\"2022-01-06\",\"2022-01-07\",\"2022-01-08\",\"2022-01-09\",\"2022-01-10\",\"2022-01-11\",\"2022-01-12\",\"2022-01-13\",\"2022-01-14\",\"2022-01-15\",\"2022-01-16\",\"2022-01-17\",\"2022-01-18\",\"2022-01-19\",\"2022-01-20\",\"2022-01-21\",\"2022-01-22\",\"2022-01-23\",\"2022-01-24\",\"2022-01-25\",\"2022-01-26\",\"2022-01-27\",\"2022-01-28\",\"2022-01-29\",\"2022-01-30\",\"2022-01-31\",\"2022-02-01\",\"2022-02-02\",\"2022-02-03\",\"2022-02-04\",\"2022-02-05\",\"2022-02-06\",\"2022-02-07\",\"2022-02-08\",\"2022-02-09\",\"2022-02-10\",\"2022-02-11\",\"2022-02-12\",\"2022-02-13\",\"2022-02-14\",\"2022-02-15\",\"2022-02-16\",\"2022-02-17\",\"2022-02-18\",\"2022-02-19\",\"2022-02-20\",\"2022-02-21\",\"2022-02-22\",\"2022-02-23\",\"2022-02-24\",\"2022-02-25\",\"2022-02-26\",\"2022-02-27\",\"2022-02-28\",\"2022-03-01\",\"2022-03-02\",\"2022-03-03\",\"2022-03-04\",\"2022-03-05\",\"2022-03-06\",\"2022-03-07\",\"2022-03-08\",\"2022-03-09\",\"2022-03-10\",\"2022-03-11\",\"2022-03-12\",\"2022-03-13\",\"2022-03-14\",\"2022-03-15\",\"2022-03-16\",\"2022-03-17\",\"2022-03-18\",\"2022-03-19\",\"2022-03-20\",\"2022-03-21\",\"2022-03-22\",\"2022-03-23\",\"2022-03-24\",\"2022-03-25\",\"2022-03-26\",\"2022-03-27\",\"2022-03-28\",\"2022-03-29\",\"2022-03-30\",\"2022-03-31\",\"2022-04-01\",\"2022-04-02\",\"2022-04-03\",\"2022-04-04\",\"2022-04-05\",\"2022-04-06\",\"2022-04-07\",\"2022-04-08\",\"2022-04-09\",\"2022-04-10\",\"2022-04-11\",\"2022-04-12\",\"2022-04-13\",\"2022-04-14\",\"2022-04-15\",\"2022-04-16\",\"2022-04-17\",\"2022-04-18\",\"2022-04-19\",\"2022-04-20\",\"2022-04-21\",\"2022-04-22\",\"2022-04-23\",\"2022-04-24\",\"2022-04-25\",\"2022-04-26\",\"2022-04-27\",\"2022-04-28\",\"2022-04-29\",\"2022-04-30\",\"2022-05-01\",\"2022-05-02\",\"2022-05-03\",\"2022-05-04\",\"2022-05-05\",\"2022-05-06\",\"2022-05-07\",\"2022-05-08\",\"2022-05-09\",\"2022-05-10\",\"2022-05-11\",\"2022-05-12\",\"2022-05-13\",\"2022-05-14\",\"2022-05-15\",\"2022-05-16\",\"2022-05-17\",\"2022-05-18\",\"2022-05-19\",\"2022-05-20\",\"2022-05-21\",\"2022-05-22\",\"2022-05-23\",\"2022-05-24\",\"2022-05-25\",\"2022-05-26\",\"2022-05-27\",\"2022-05-28\",\"2022-05-29\",\"2022-05-30\",\"2022-05-31\",\"2022-06-01\",\"2022-06-02\",\"2022-06-03\",\"2022-06-04\",\"2022-06-05\",\"2022-06-06\",\"2022-06-07\",\"2022-06-08\",\"2022-06-09\",\"2022-06-10\",\"2022-06-11\",\"2022-06-12\",\"2022-06-13\",\"2022-06-14\",\"2022-06-15\",\"2022-06-16\",\"2022-06-17\",\"2022-06-18\"],\"xaxis\":\"x\",\"y\":[2.0,0.0,0.0,0.0,0.0,0.0,0.0,0.0,0.0,0.0,0.0,0.0,0.0,0.0,0.0,0.0,0.0,0.0,0.0,0.0,0.0,0.0,0.0,0.0,0.0,0.0,0.0,0.0,0.0,0.0,0.0,1.0,0.0,0.0,1.0,9.0,0.0,4.0,0.0,3.0,0.0,8.0,17.0,14.0,4.0,27.0,24.0,33.0,52.0,54.0,53.0,61.0,71.0,57.0,163.0,182.0,196.0,228.0,270.0,302.0,501.0,440.0,771.0,601.0,582.0,658.0,954.0,1154.0,1175.0,1459.0,1786.0,1667.0,2186.0,2558.0,2774.0,3388.0,3448.0,4070.0,4785.0,6060.0,4268.0,5642.0,5236.0,4774.0,5849.0,5966.0,6361.0,6198.0,6411.0,5841.0,7099.0,7933.0,9623.0,10633.0,10581.0,10102.0,10559.0,11231.0,10699.0,10817.0,11012.0,11656.0,10899.0,10028.0,9974.0,10598.0,9200.0,9709.0,8926.0,9263.0,8764.0,8849.0,8894.0,9434.0,8599.0,8946.0,8915.0,8338.0,8371.0,8572.0,8952.0,9268.0,8485.0,8858.0,8529.0,8823.0,8718.0,8846.0,8971.0,8970.0,8587.0,8393.0,8777.0,8961.0,8697.0,8809.0,8217.0,8241.0,7824.0,7772.0,7971.0,7870.0,7717.0,7586.0,7413.0,7165.0,7105.0,6788.0,6843.0,6784.0,6683.0,6683.0,6550.0,6752.0,6710.0,6623.0,6719.0,6569.0,6363.0,6534.0,6491.0,6623.0,6586.0,6587.0,6511.0,6240.0,6410.0,6415.0,6389.0,6214.0,6096.0,5901.0,5828.0,5850.0,5830.0,5779.0,5833.0,5741.0,5607.0,5380.0,5449.0,5484.0,5468.0,5429.0,5387.0,5364.0,5121.0,5186.0,5239.0,5191.0,5185.0,5155.0,5081.0,4892.0,5054.0,5017.0,5016.0,5030.0,4911.0,4839.0,4718.0,4790.0,4767.0,4838.0,4860.0,4797.0,4688.0,4639.0,4642.0,4675.0,4758.0,4843.0,4897.0,4932.0,4670.0,4893.0,4958.0,5064.0,5144.0,5097.0,5106.0,5020.0,5172.0,5310.0,5421.0,5406.0,5361.0,5414.0,5435.0,5612.0,5667.0,5803.0,5960.0,6043.0,6090.0,6109.0,6330.0,6489.0,7112.0,7421.0,7764.0,8026.0,8129.0,8371.0,8835.0,9294.0,9735.0,10376.0,10757.0,11481.0,10981.0,11345.0,11969.0,12673.0,13442.0,13406.0,13690.0,14041.0,13556.0,14937.0,14703.0,14804.0,15843.0,16108.0,15444.0,15704.0,17077.0,16260.0,16392.0,17148.0,16342.0,15886.0,17418.0,17987.0,17834.0,18381.0,18017.0,18431.0,19483.0,19116.0,20368.0,20109.0,20248.0,21577.0,20765.0,19583.0,21333.0,21717.0,22441.0,22313.0,22562.0,22201.0,20717.0,23337.0,24059.0,24538.0,24295.0,24891.0,24087.0,23393.0,25195.0,27267.0,26809.0,26390.0,26046.0,26126.0,25043.0,27829.0,27078.0,28450.0,28701.0,27798.0,25752.0,25838.0,27562.0,28206.0,27729.0,27651.0,26902.0,26265.0,26074.0,27787.0,28116.0,27772.0,28510.0,28917.0,28340.0,26814.0,29499.0,28595.0,28833.0,27849.0,27363.0,26588.0,26095.0,27329.0,26613.0,25938.0,23845.0,23015.0,23955.0,23902.0,23218.0,23330.0,23012.0,22540.0,23018.0,22657.0,22544.0,24303.0,24294.0,23670.0,23178.0,22509.0,21442.0,20806.0,21544.0,21182.0,20585.0,20800.0,18999.0,17982.0,17464.0,18856.0,18966.0,18751.0,18083.0,17391.0,16406.0,16222.0,16463.0,16444.0,16379.0,15808.0,15701.0,14808.0,14258.0,14803.0,14867.0,14640.0,13968.0,13999.0,13030.0,12629.0,13243.0,13242.0,12775.0,12568.0,12455.0,11679.0,11609.0,11067.0,10955.0,11409.0,11234.0,11450.0,10441.0,10416.0,11263.0,10906.0,10909.0,10478.0,10145.0,9342.0,8976.0,9167.0,9695.0,9808.0,9985.0,9347.0,9305.0,8910.0,9713.0,9612.0,9548.0,9215.0,9195.0,8369.0,8769.0,9128.0,9073.0,8783.0,8979.0,8589.0,8162.0,8156.0,9057.0,8682.0,8906.0,8697.0,8525.0,8206.0,8174.0,8545.0,9027.0,8580.0,8576.0,8191.0,8044.0,8202.0,8818.0,8872.0,9201.0,8507.0,8465.0,8044.0,8146.0,8874.0,8717.0,8698.0,8652.0,8681.0,7931.0,7729.0,9161.0,8613.0,9147.0,8574.0,8368.0,7653.0,7857.0,7518.0,8261.0,8198.0,8290.0,8338.0,7989.0,8096.0,8259.0,9338.0,8667.0,8426.0,9204.0,8057.0,7799.0,9112.0,8811.0,8585.0,8827.0,8283.0,7762.0,8247.0,8911.0,9126.0,9155.0,9558.0,8341.0,9369.0,8702.0,8807.0,8820.0,9011.0,9025.0,9297.0,9843.0,10271.0,11560.0,12361.0,13360.0,14561.0,13550.0,14002.0,13209.0,13857.0,17051.0,17679.0,17367.0,17114.0,16438.0,17303.0,19871.0,20065.0,21312.0,20169.0,21258.0,20217.0,20633.0,23128.0,22791.0,24003.0,24693.0,23895.0,22926.0,23510.0,24361.0,25299.0,24607.0,24544.0,24649.0,24211.0,23331.0,24793.0,25188.0,24590.0,24480.0,24098.0,23234.0,23164.0,23938.0,23276.0,23395.0,23517.0,22678.0,22486.0,21870.0,22720.0,23016.0,23264.0,22264.0,22969.0,21471.0,22053.0,22564.0,22073.0,21727.0,22271.0,21554.0,20765.0,20958.0,21311.0,21661.0,21531.0,21010.0,20154.0,20349.0,20312.0,20459.0,20402.0,20414.0,19977.0,18875.0,18260.0,18972.0,19094.0,18982.0,18986.0,18798.0,17858.0,17374.0,17955.0,18591.0,18470.0,18400.0,18262.0,17487.0,17060.0,17673.0,18033.0,18008.0,18564.0,18235.0,17861.0,17529.0,18543.0,19288.0,19589.0,19999.0,19825.0,19376.0,18796.0,19308.0,21023.0,20942.0,21583.0,22015.0,21731.0,21040.0,21891.0,23330.0,23953.0,24632.0,25161.0,25150.0,24465.0,24479.0,26881.0,26561.0,28648.0,27889.0,28636.0,27414.0,27926.0,30489.0,31362.0,32351.0,33428.0,33434.0,32835.0,33162.0,35416.0,36205.0,36728.0,34690.0,36947.0,35454.0,35575.0,39070.0,38805.0,39203.0,39931.0,39321.0,37927.0,39357.0,39117.0,39617.0,40210.0,38028.0,38257.0,37999.0,36896.0,39584.0,38941.0,38068.0,37620.0,37210.0,35612.0,35415.0,36155.0,35935.0,35896.0,35749.0,34533.0,32899.0,32555.0,32866.0,33824.0,33119.0,32786.0,33170.0,31990.0,32196.0,32757.0,32316.0,32374.0,32013.0,31569.0,30546.0,30228.0,29701.0,30383.0,29815.0,29483.0,29208.0,27910.0,28011.0,28158.0,27427.0,27131.0,27680.0,26744.0,25655.0,25038.0,25446.0,24522.0,24771.0,23543.0,23036.0,21751.0,20957.0,20914.0,20482.0,19606.0,18088.0,16193.0,15760.0,15632.0,15179.0,16608.0,16424.0,16111.0,15699.0,17396.0,17797.0,20972.0,23614.0,26949.0,28977.0,30457.0,30959.0,33571.0,38508.0,49127.0,56767.0,62695.0,64533.0,67219.0,74072.0,88105.0,97284.0,112302.0,120324.0,123033.0,124693.0,141005.0,154643.0,166957.0,175979.0,178616.0,170532.0,164097.0,181791.0,195293.0,202211.0,201955.0,195813.0,178785.0,165139.0,177823.0,178725.0,178016.0,176924.0,168399.0,149866.0,132912.0,135885.0,131249.0,121920.0,121647.0,114610.0,105745.0,96092.0,96180.0,91934.0,88130.0,85575.0,78632.0,72136.0,65569.0,57787.0,50284.0,49710.0,47096.0,43951.0,40120.0,36080.0,35969.0,34172.0,33815.0,32353.0,30513.0,28342.0,26015.0,26424.0,24918.0,24882.0,23524.0,22738.0,20647.0,19235.0,19767.0,18925.0,18796.0,17614.0,16498.0,15029.0,13742.0,14510.0,14168.0,14123.0,13386.0,12832.0,11644.0,10730.0,11577.0,11168.0,11283.0,10892.0,10096.0,9287.0,8523.0,9078.0,8731.0,8843.0,8671.0,8293.0,7529.0,6998.0,7635.0,7547.0,7590.0,7267.0,6954.0,6122.0,5374.0,5024.0,4952.0,5448.0,5407.0,5365.0,4936.0,4434.0,4036.0,4029.0,4832.0,4961.0,4887.0,4486.0,4055.0,4676.0,4850.0,5020.0,4962.0,4627.0,4091.0,3704.0,4497.0,4619.0,4546.0,4459.0,4118.0,3743.0,3475.0,4097.0,4196.0,4113.0,3991.0,3707.0,3281.0,3194.0,3595.0,3713.0,3605.0,3572.0,3341.0,2955.0,2749.0,2683.0,3262.0,3323.0,3319.0],\"yaxis\":\"y\",\"type\":\"scattergl\"}],                        {\"template\":{\"data\":{\"histogram2dcontour\":[{\"type\":\"histogram2dcontour\",\"colorbar\":{\"outlinewidth\":0,\"ticks\":\"\"},\"colorscale\":[[0.0,\"#0d0887\"],[0.1111111111111111,\"#46039f\"],[0.2222222222222222,\"#7201a8\"],[0.3333333333333333,\"#9c179e\"],[0.4444444444444444,\"#bd3786\"],[0.5555555555555556,\"#d8576b\"],[0.6666666666666666,\"#ed7953\"],[0.7777777777777778,\"#fb9f3a\"],[0.8888888888888888,\"#fdca26\"],[1.0,\"#f0f921\"]]}],\"choropleth\":[{\"type\":\"choropleth\",\"colorbar\":{\"outlinewidth\":0,\"ticks\":\"\"}}],\"histogram2d\":[{\"type\":\"histogram2d\",\"colorbar\":{\"outlinewidth\":0,\"ticks\":\"\"},\"colorscale\":[[0.0,\"#0d0887\"],[0.1111111111111111,\"#46039f\"],[0.2222222222222222,\"#7201a8\"],[0.3333333333333333,\"#9c179e\"],[0.4444444444444444,\"#bd3786\"],[0.5555555555555556,\"#d8576b\"],[0.6666666666666666,\"#ed7953\"],[0.7777777777777778,\"#fb9f3a\"],[0.8888888888888888,\"#fdca26\"],[1.0,\"#f0f921\"]]}],\"heatmap\":[{\"type\":\"heatmap\",\"colorbar\":{\"outlinewidth\":0,\"ticks\":\"\"},\"colorscale\":[[0.0,\"#0d0887\"],[0.1111111111111111,\"#46039f\"],[0.2222222222222222,\"#7201a8\"],[0.3333333333333333,\"#9c179e\"],[0.4444444444444444,\"#bd3786\"],[0.5555555555555556,\"#d8576b\"],[0.6666666666666666,\"#ed7953\"],[0.7777777777777778,\"#fb9f3a\"],[0.8888888888888888,\"#fdca26\"],[1.0,\"#f0f921\"]]}],\"heatmapgl\":[{\"type\":\"heatmapgl\",\"colorbar\":{\"outlinewidth\":0,\"ticks\":\"\"},\"colorscale\":[[0.0,\"#0d0887\"],[0.1111111111111111,\"#46039f\"],[0.2222222222222222,\"#7201a8\"],[0.3333333333333333,\"#9c179e\"],[0.4444444444444444,\"#bd3786\"],[0.5555555555555556,\"#d8576b\"],[0.6666666666666666,\"#ed7953\"],[0.7777777777777778,\"#fb9f3a\"],[0.8888888888888888,\"#fdca26\"],[1.0,\"#f0f921\"]]}],\"contourcarpet\":[{\"type\":\"contourcarpet\",\"colorbar\":{\"outlinewidth\":0,\"ticks\":\"\"}}],\"contour\":[{\"type\":\"contour\",\"colorbar\":{\"outlinewidth\":0,\"ticks\":\"\"},\"colorscale\":[[0.0,\"#0d0887\"],[0.1111111111111111,\"#46039f\"],[0.2222222222222222,\"#7201a8\"],[0.3333333333333333,\"#9c179e\"],[0.4444444444444444,\"#bd3786\"],[0.5555555555555556,\"#d8576b\"],[0.6666666666666666,\"#ed7953\"],[0.7777777777777778,\"#fb9f3a\"],[0.8888888888888888,\"#fdca26\"],[1.0,\"#f0f921\"]]}],\"surface\":[{\"type\":\"surface\",\"colorbar\":{\"outlinewidth\":0,\"ticks\":\"\"},\"colorscale\":[[0.0,\"#0d0887\"],[0.1111111111111111,\"#46039f\"],[0.2222222222222222,\"#7201a8\"],[0.3333333333333333,\"#9c179e\"],[0.4444444444444444,\"#bd3786\"],[0.5555555555555556,\"#d8576b\"],[0.6666666666666666,\"#ed7953\"],[0.7777777777777778,\"#fb9f3a\"],[0.8888888888888888,\"#fdca26\"],[1.0,\"#f0f921\"]]}],\"mesh3d\":[{\"type\":\"mesh3d\",\"colorbar\":{\"outlinewidth\":0,\"ticks\":\"\"}}],\"scatter\":[{\"fillpattern\":{\"fillmode\":\"overlay\",\"size\":10,\"solidity\":0.2},\"type\":\"scatter\"}],\"parcoords\":[{\"type\":\"parcoords\",\"line\":{\"colorbar\":{\"outlinewidth\":0,\"ticks\":\"\"}}}],\"scatterpolargl\":[{\"type\":\"scatterpolargl\",\"marker\":{\"colorbar\":{\"outlinewidth\":0,\"ticks\":\"\"}}}],\"bar\":[{\"error_x\":{\"color\":\"#2a3f5f\"},\"error_y\":{\"color\":\"#2a3f5f\"},\"marker\":{\"line\":{\"color\":\"#E5ECF6\",\"width\":0.5},\"pattern\":{\"fillmode\":\"overlay\",\"size\":10,\"solidity\":0.2}},\"type\":\"bar\"}],\"scattergeo\":[{\"type\":\"scattergeo\",\"marker\":{\"colorbar\":{\"outlinewidth\":0,\"ticks\":\"\"}}}],\"scatterpolar\":[{\"type\":\"scatterpolar\",\"marker\":{\"colorbar\":{\"outlinewidth\":0,\"ticks\":\"\"}}}],\"histogram\":[{\"marker\":{\"pattern\":{\"fillmode\":\"overlay\",\"size\":10,\"solidity\":0.2}},\"type\":\"histogram\"}],\"scattergl\":[{\"type\":\"scattergl\",\"marker\":{\"colorbar\":{\"outlinewidth\":0,\"ticks\":\"\"}}}],\"scatter3d\":[{\"type\":\"scatter3d\",\"line\":{\"colorbar\":{\"outlinewidth\":0,\"ticks\":\"\"}},\"marker\":{\"colorbar\":{\"outlinewidth\":0,\"ticks\":\"\"}}}],\"scattermapbox\":[{\"type\":\"scattermapbox\",\"marker\":{\"colorbar\":{\"outlinewidth\":0,\"ticks\":\"\"}}}],\"scatterternary\":[{\"type\":\"scatterternary\",\"marker\":{\"colorbar\":{\"outlinewidth\":0,\"ticks\":\"\"}}}],\"scattercarpet\":[{\"type\":\"scattercarpet\",\"marker\":{\"colorbar\":{\"outlinewidth\":0,\"ticks\":\"\"}}}],\"carpet\":[{\"aaxis\":{\"endlinecolor\":\"#2a3f5f\",\"gridcolor\":\"white\",\"linecolor\":\"white\",\"minorgridcolor\":\"white\",\"startlinecolor\":\"#2a3f5f\"},\"baxis\":{\"endlinecolor\":\"#2a3f5f\",\"gridcolor\":\"white\",\"linecolor\":\"white\",\"minorgridcolor\":\"white\",\"startlinecolor\":\"#2a3f5f\"},\"type\":\"carpet\"}],\"table\":[{\"cells\":{\"fill\":{\"color\":\"#EBF0F8\"},\"line\":{\"color\":\"white\"}},\"header\":{\"fill\":{\"color\":\"#C8D4E3\"},\"line\":{\"color\":\"white\"}},\"type\":\"table\"}],\"barpolar\":[{\"marker\":{\"line\":{\"color\":\"#E5ECF6\",\"width\":0.5},\"pattern\":{\"fillmode\":\"overlay\",\"size\":10,\"solidity\":0.2}},\"type\":\"barpolar\"}],\"pie\":[{\"automargin\":true,\"type\":\"pie\"}]},\"layout\":{\"autotypenumbers\":\"strict\",\"colorway\":[\"#636efa\",\"#EF553B\",\"#00cc96\",\"#ab63fa\",\"#FFA15A\",\"#19d3f3\",\"#FF6692\",\"#B6E880\",\"#FF97FF\",\"#FECB52\"],\"font\":{\"color\":\"#2a3f5f\"},\"hovermode\":\"closest\",\"hoverlabel\":{\"align\":\"left\"},\"paper_bgcolor\":\"white\",\"plot_bgcolor\":\"#E5ECF6\",\"polar\":{\"bgcolor\":\"#E5ECF6\",\"angularaxis\":{\"gridcolor\":\"white\",\"linecolor\":\"white\",\"ticks\":\"\"},\"radialaxis\":{\"gridcolor\":\"white\",\"linecolor\":\"white\",\"ticks\":\"\"}},\"ternary\":{\"bgcolor\":\"#E5ECF6\",\"aaxis\":{\"gridcolor\":\"white\",\"linecolor\":\"white\",\"ticks\":\"\"},\"baxis\":{\"gridcolor\":\"white\",\"linecolor\":\"white\",\"ticks\":\"\"},\"caxis\":{\"gridcolor\":\"white\",\"linecolor\":\"white\",\"ticks\":\"\"}},\"coloraxis\":{\"colorbar\":{\"outlinewidth\":0,\"ticks\":\"\"}},\"colorscale\":{\"sequential\":[[0.0,\"#0d0887\"],[0.1111111111111111,\"#46039f\"],[0.2222222222222222,\"#7201a8\"],[0.3333333333333333,\"#9c179e\"],[0.4444444444444444,\"#bd3786\"],[0.5555555555555556,\"#d8576b\"],[0.6666666666666666,\"#ed7953\"],[0.7777777777777778,\"#fb9f3a\"],[0.8888888888888888,\"#fdca26\"],[1.0,\"#f0f921\"]],\"sequentialminus\":[[0.0,\"#0d0887\"],[0.1111111111111111,\"#46039f\"],[0.2222222222222222,\"#7201a8\"],[0.3333333333333333,\"#9c179e\"],[0.4444444444444444,\"#bd3786\"],[0.5555555555555556,\"#d8576b\"],[0.6666666666666666,\"#ed7953\"],[0.7777777777777778,\"#fb9f3a\"],[0.8888888888888888,\"#fdca26\"],[1.0,\"#f0f921\"]],\"diverging\":[[0,\"#8e0152\"],[0.1,\"#c51b7d\"],[0.2,\"#de77ae\"],[0.3,\"#f1b6da\"],[0.4,\"#fde0ef\"],[0.5,\"#f7f7f7\"],[0.6,\"#e6f5d0\"],[0.7,\"#b8e186\"],[0.8,\"#7fbc41\"],[0.9,\"#4d9221\"],[1,\"#276419\"]]},\"xaxis\":{\"gridcolor\":\"white\",\"linecolor\":\"white\",\"ticks\":\"\",\"title\":{\"standoff\":15},\"zerolinecolor\":\"white\",\"automargin\":true,\"zerolinewidth\":2},\"yaxis\":{\"gridcolor\":\"white\",\"linecolor\":\"white\",\"ticks\":\"\",\"title\":{\"standoff\":15},\"zerolinecolor\":\"white\",\"automargin\":true,\"zerolinewidth\":2},\"scene\":{\"xaxis\":{\"backgroundcolor\":\"#E5ECF6\",\"gridcolor\":\"white\",\"linecolor\":\"white\",\"showbackground\":true,\"ticks\":\"\",\"zerolinecolor\":\"white\",\"gridwidth\":2},\"yaxis\":{\"backgroundcolor\":\"#E5ECF6\",\"gridcolor\":\"white\",\"linecolor\":\"white\",\"showbackground\":true,\"ticks\":\"\",\"zerolinecolor\":\"white\",\"gridwidth\":2},\"zaxis\":{\"backgroundcolor\":\"#E5ECF6\",\"gridcolor\":\"white\",\"linecolor\":\"white\",\"showbackground\":true,\"ticks\":\"\",\"zerolinecolor\":\"white\",\"gridwidth\":2}},\"shapedefaults\":{\"line\":{\"color\":\"#2a3f5f\"}},\"annotationdefaults\":{\"arrowcolor\":\"#2a3f5f\",\"arrowhead\":0,\"arrowwidth\":1},\"geo\":{\"bgcolor\":\"white\",\"landcolor\":\"#E5ECF6\",\"subunitcolor\":\"white\",\"showland\":true,\"showlakes\":true,\"lakecolor\":\"white\"},\"title\":{\"x\":0.05},\"mapbox\":{\"style\":\"light\"}}},\"xaxis\":{\"anchor\":\"y\",\"domain\":[0.0,1.0],\"title\":{\"text\":\"date\"}},\"yaxis\":{\"anchor\":\"x\",\"domain\":[0.0,1.0],\"title\":{\"text\":\"new_cases\"}},\"legend\":{\"title\":{\"text\":\"location\"},\"tracegroupgap\":0},\"title\":{\"text\":\"COVID-19 - new cases daily in Russia and Germany\"}},                        {\"responsive\": true}                    ).then(function(){\n",
              "                            \n",
              "var gd = document.getElementById('e25c0837-ebc5-4876-8c5b-7e2e7f9ace98');\n",
              "var x = new MutationObserver(function (mutations, observer) {{\n",
              "        var display = window.getComputedStyle(gd).display;\n",
              "        if (!display || display === 'none') {{\n",
              "            console.log([gd, 'removed!']);\n",
              "            Plotly.purge(gd);\n",
              "            observer.disconnect();\n",
              "        }}\n",
              "}});\n",
              "\n",
              "// Listen for the removal of the full notebook cells\n",
              "var notebookContainer = gd.closest('#notebook-container');\n",
              "if (notebookContainer) {{\n",
              "    x.observe(notebookContainer, {childList: true});\n",
              "}}\n",
              "\n",
              "// Listen for the clearing of the current output cell\n",
              "var outputEl = gd.closest('.output');\n",
              "if (outputEl) {{\n",
              "    x.observe(outputEl, {childList: true});\n",
              "}}\n",
              "\n",
              "                        })                };                            </script>        </div>\n",
              "</body>\n",
              "</html>"
            ]
          },
          "metadata": {}
        }
      ]
    },
    {
      "cell_type": "markdown",
      "source": [
        "# Analysis of total cases in each country and plotting data on an interactive map"
      ],
      "metadata": {
        "id": "Ku1wpzqNMDGy"
      }
    },
    {
      "cell_type": "code",
      "source": [
        "df_map = df[df['date'] == df['date'].max()]"
      ],
      "metadata": {
        "id": "-0omQZCD3UQ7"
      },
      "execution_count": 15,
      "outputs": []
    },
    {
      "cell_type": "code",
      "source": [
        "df_map['cases_per_person'] = df_map['total_cases'] / df_map['population']"
      ],
      "metadata": {
        "id": "12XLhbKT3UWg",
        "colab": {
          "base_uri": "https://localhost:8080/"
        },
        "outputId": "1166ccc8-b3dc-4957-975e-6c7ba6c622ce"
      },
      "execution_count": 16,
      "outputs": [
        {
          "output_type": "stream",
          "name": "stderr",
          "text": [
            "<ipython-input-16-75b9057eabc9>:1: SettingWithCopyWarning:\n",
            "\n",
            "\n",
            "A value is trying to be set on a copy of a slice from a DataFrame.\n",
            "Try using .loc[row_indexer,col_indexer] = value instead\n",
            "\n",
            "See the caveats in the documentation: https://pandas.pydata.org/pandas-docs/stable/user_guide/indexing.html#returning-a-view-versus-a-copy\n",
            "\n"
          ]
        }
      ]
    },
    {
      "cell_type": "code",
      "source": [
        "my_mapbox_token = 'pk.eyJ1Ijoib21lZ2FwaCIsImEiOiJjbHU1bW14cWwweXR1MmpuNDBrYWRrc2p0In0.JqpHZHfWXQxlTWR7US-5PA'\n",
        "px.set_mapbox_access_token(my_mapbox_token)"
      ],
      "metadata": {
        "id": "L0R76WkR3UZ7"
      },
      "execution_count": 17,
      "outputs": []
    },
    {
      "cell_type": "code",
      "source": [
        "cases_map = px.scatter_mapbox(data_frame=df_map,\n",
        "                                  lat='latitude',\n",
        "                                  lon='longitude',\n",
        "                                  color='continent',\n",
        "                                  size='cases_per_person',\n",
        "                                  size_max=8,\n",
        "                                  hover_data={'location': True,\n",
        "                                              'total_cases': True,\n",
        "                                              'continent': False,\n",
        "                                              'cases_per_person': False,\n",
        "                                              'latitude': False,\n",
        "                                              'longitude': False,\n",
        "                                              },\n",
        "                                  zoom=0.8,\n",
        "                                  mapbox_style='dark',\n",
        "                                  title='COVID-19 map - positive cases per person')"
      ],
      "metadata": {
        "id": "Xr_ODdgA3UdF"
      },
      "execution_count": 18,
      "outputs": []
    },
    {
      "cell_type": "code",
      "source": [
        "cases_map.update_layout(width=1200, height=700)\n",
        "cases_map"
      ],
      "metadata": {
        "id": "Ta3KljrE3UgN",
        "colab": {
          "base_uri": "https://localhost:8080/",
          "height": 717
        },
        "outputId": "eb41256a-f6aa-42ba-8429-6ced2dbed578"
      },
      "execution_count": 19,
      "outputs": [
        {
          "output_type": "display_data",
          "data": {
            "text/html": [
              "<html>\n",
              "<head><meta charset=\"utf-8\" /></head>\n",
              "<body>\n",
              "    <div>            <script src=\"https://cdnjs.cloudflare.com/ajax/libs/mathjax/2.7.5/MathJax.js?config=TeX-AMS-MML_SVG\"></script><script type=\"text/javascript\">if (window.MathJax && window.MathJax.Hub && window.MathJax.Hub.Config) {window.MathJax.Hub.Config({SVG: {font: \"STIX-Web\"}});}</script>                <script type=\"text/javascript\">window.PlotlyConfig = {MathJaxConfig: 'local'};</script>\n",
              "        <script charset=\"utf-8\" src=\"https://cdn.plot.ly/plotly-2.24.1.min.js\"></script>                <div id=\"092b1922-d53f-4ba0-87e0-26d858816592\" class=\"plotly-graph-div\" style=\"height:700px; width:1200px;\"></div>            <script type=\"text/javascript\">                                    window.PLOTLYENV=window.PLOTLYENV || {};                                    if (document.getElementById(\"092b1922-d53f-4ba0-87e0-26d858816592\")) {                    Plotly.newPlot(                        \"092b1922-d53f-4ba0-87e0-26d858816592\",                        [{\"customdata\":[[\"Afghanistan\",181574.0,\"Asia\",0.004558103404838527,33.0,65.0],[\"Armenia\",423044.0,\"Asia\",0.1425288936326196,40.0,45.0],[\"Azerbaijan\",792985.0,\"Asia\",0.07756610752802605,40.5,47.5],[\"Bahrain\",603848.0,\"Asia\",0.34539251098927815,26.0,50.55],[\"Bangladesh\",1955731.0,\"Asia\",0.011760011488393623,24.0,90.0],[\"Bhutan\",59644.0,\"Asia\",0.0764764713424798,27.5,90.5],[\"Brunei\",156452.0,\"Asia\",0.3543389833579446,4.5,114.6667],[\"Cambodia\",136262.0,\"Asia\",0.008040741993926043,13.0,105.0],[\"China\",887201.0,\"Asia\",0.0006143131895367831,35.0,105.0],[\"Georgia\",1658755.0,\"Asia\",0.41679638512045786,42.0,43.5],[\"Hong Kong\",1225408.0,\"Asia\",0.1622455248384705,22.25,114.1667],[\"India\",43296692.0,\"Asia\",0.031072492695689305,20.0,77.0],[\"Indonesia\",6066908.0,\"Asia\",0.021952774455200733,-5.0,120.0],[\"Iran\",7234597.0,\"Asia\",0.08508411742097614,32.0,53.0],[\"Iraq\",2331872.0,\"Asia\",0.05662721590731238,33.0,44.0],[\"Israel\",4226245.0,\"Asia\",0.4548751479926811,31.5,34.75],[\"Japan\",9124454.0,\"Asia\",0.07238711923723194,36.0,138.0],[\"Jordan\",1697673.0,\"Asia\",0.16531983279420376,31.0,36.0],[\"Kazakhstan\",1395148.0,\"Asia\",0.07344833297341326,48.0,68.0],[\"Kuwait\",638708.0,\"Asia\",0.14755693184304317,29.3375,47.6581],[\"Kyrgyzstan\",201016.0,\"Asia\",0.03032671644981773,41.0,75.0],[\"Laos\",210194.0,\"Asia\",0.02848404969646411,18.0,105.0],[\"Lebanon\",1103264.0,\"Asia\",0.16298410243766168,33.8333,35.8333],[\"Macao\",83.0,\"Asia\",0.0001260649067195633,22.1667,113.55],[\"Malaysia\",4538922.0,\"Asia\",0.13848227349147757,2.5,112.5],[\"Maldives\",179979.0,\"Asia\",0.3310750156359222,3.25,73.0],[\"Mongolia\",926282.0,\"Asia\",0.278222751932699,46.0,105.0],[\"Myanmar\",613485.0,\"Asia\",0.011193753298679958,22.0,98.0],[\"Nepal\",979344.0,\"Asia\",0.033002414159835985,28.0,84.0],[\"North Korea\",1.0,\"Asia\",3.862936074781807e-08,40.0,127.0],[\"Oman\",389758.0,\"Asia\",0.07461802481766582,21.0,57.0],[\"Pakistan\",1531982.0,\"Asia\",0.006802764134086384,30.0,70.0],[\"Palestine\",658100.0,\"Asia\",0.126006269486838,32.0,35.25],[\"Philippines\",3695652.0,\"Asia\",0.033280097573178756,13.0,122.0],[\"Qatar\",374923.0,\"Asia\",0.12793718802507675,25.5,51.25],[\"Saudi Arabia\",783907.0,\"Asia\",0.022181435105379975,25.0,45.0],[\"Singapore\",1364562.0,\"Asia\",0.2502130702655127,1.3667,103.8],[\"South Korea\",18276552.0,\"Asia\",0.3562320719871115,37.0,127.5],[\"Sri Lanka\",663984.0,\"Asia\",0.030886846937937248,7.0,81.0],[\"Syria\",55913.0,\"Asia\",0.003059417027108778,35.0,38.0],[\"Taiwan\",3244453.0,\"Asia\",0.13600720653709275,23.5,121.0],[\"Tajikistan\",17786.0,\"Asia\",0.0018242752926394604,39.0,71.0],[\"Thailand\",4499044.0,\"Asia\",0.06431722253415556,15.0,100.0],[\"Timor\",22944.0,\"Asia\",0.01707301646358478,-8.55,125.5167],[\"Turkey\",15085742.0,\"Asia\",0.17739013006354828,39.0,35.0],[\"United Arab Emirates\",925898.0,\"Asia\",0.09267243601119118,24.0,54.0],[\"Uzbekistan\",239525.0,\"Asia\",0.0070581877261349495,41.0,64.0],[\"Vietnam\",10737107.0,\"Asia\",0.10937389301037705,16.0,106.0],[\"Yemen\",11823.0,\"Asia\",0.00038775835429359157,15.0,48.0]],\"hovertemplate\":\"location=%{customdata[0]}\\u003cbr\\u003etotal_cases=%{customdata[1]}\\u003cextra\\u003e\\u003c\\u002fextra\\u003e\",\"lat\":[33.0,40.0,40.5,26.0,24.0,27.5,4.5,13.0,35.0,42.0,22.25,20.0,-5.0,32.0,33.0,31.5,36.0,31.0,48.0,29.3375,41.0,18.0,33.8333,22.1667,2.5,3.25,46.0,22.0,28.0,40.0,21.0,30.0,32.0,13.0,25.5,25.0,1.3667,37.0,7.0,35.0,23.5,39.0,15.0,-8.55,39.0,24.0,41.0,16.0,15.0],\"legendgroup\":\"Asia\",\"lon\":[65.0,45.0,47.5,50.55,90.0,90.5,114.6667,105.0,105.0,43.5,114.1667,77.0,120.0,53.0,44.0,34.75,138.0,36.0,68.0,47.6581,75.0,105.0,35.8333,113.55,112.5,73.0,105.0,98.0,84.0,127.0,57.0,70.0,35.25,122.0,51.25,45.0,103.8,127.5,81.0,38.0,121.0,71.0,100.0,125.5167,35.0,54.0,64.0,106.0,48.0],\"marker\":{\"color\":\"#636efa\",\"size\":[0.004558103404838527,0.1425288936326196,0.07756610752802605,0.34539251098927815,0.011760011488393623,0.0764764713424798,0.3543389833579446,0.008040741993926043,0.0006143131895367831,0.41679638512045786,0.1622455248384705,0.031072492695689305,0.021952774455200733,0.08508411742097614,0.05662721590731238,0.4548751479926811,0.07238711923723194,0.16531983279420376,0.07344833297341326,0.14755693184304317,0.03032671644981773,0.02848404969646411,0.16298410243766168,0.0001260649067195633,0.13848227349147757,0.3310750156359222,0.278222751932699,0.011193753298679958,0.033002414159835985,3.862936074781807e-08,0.07461802481766582,0.006802764134086384,0.126006269486838,0.033280097573178756,0.12793718802507675,0.022181435105379975,0.2502130702655127,0.3562320719871115,0.030886846937937248,0.003059417027108778,0.13600720653709275,0.0018242752926394604,0.06431722253415556,0.01707301646358478,0.17739013006354828,0.09267243601119118,0.0070581877261349495,0.10937389301037705,0.00038775835429359157],\"sizemode\":\"area\",\"sizeref\":0.01103971724461297},\"mode\":\"markers\",\"name\":\"Asia\",\"showlegend\":true,\"subplot\":\"mapbox\",\"type\":\"scattermapbox\"},{\"customdata\":[[\"Albania\",277141.0,\"Europe\",0.09646619100891284,41.0,20.0],[\"Andorra\",43449.0,\"Europe\",0.5616904103213797,42.5,1.6],[\"Austria\",4349916.0,\"Europe\",0.48102193590850545,47.3333,13.3333],[\"Belarus\",982867.0,\"Europe\",0.10408565534175161,53.0,28.0],[\"Belgium\",4187940.0,\"Europe\",0.36002576954891424,50.8333,4.0],[\"Bosnia and Herzegovina\",378209.0,\"Europe\",0.11589206421775178,44.0,18.0],[\"Bulgaria\",1168035.0,\"Europe\",0.16936253879598154,43.0,25.0],[\"Croatia\",1141546.0,\"Europe\",0.27967710172608823,45.1667,15.5],[\"Cyprus\",497454.0,\"Europe\",0.5551910982639606,35.0,33.0],[\"Czechia\",3925291.0,\"Europe\",0.3660097535067429,49.75,15.5],[\"Denmark\",3150599.0,\"Europe\",0.541963758290899,56.0,10.0],[\"Estonia\",578494.0,\"Europe\",0.4365373064048271,59.0,26.0],[\"Faeroe Islands\",34658.0,\"Europe\",0.7065419036552301,62.0,-7.0],[\"Finland\",1125342.0,\"Europe\",0.2028242214232275,64.0,26.0],[\"France\",30139875.0,\"Europe\",0.44703323840882797,46.0,2.0],[\"Germany\",27204955.0,\"Europe\",0.3242527089031479,51.0,9.0],[\"Gibraltar\",19010.0,\"Europe\",0.5642456442373334,36.1833,-5.3667],[\"Greece\",3539423.0,\"Europe\",0.34128910868233503,39.0,22.0],[\"Hungary\",1923122.0,\"Europe\",0.19961487049937504,47.0,20.0],[\"Iceland\",191079.0,\"Europe\",0.5181213258422092,65.0,-18.0],[\"Ireland\",1578284.0,\"Europe\",0.3167397967129208,53.0,-8.0],[\"Isle of Man\",33821.0,\"Europe\",0.3959840768059946,54.23,-4.55],[\"Italy\",17844905.0,\"Europe\",0.2956046477414964,42.8333,12.8333],[\"Latvia\",831727.0,\"Europe\",0.4455042331437533,57.0,25.0],[\"Liechtenstein\",17653.0,\"Europe\",0.46146808176922677,47.1667,9.5333],[\"Lithuania\",1065134.0,\"Europe\",0.3959809090577881,56.0,24.0],[\"Luxembourg\",254865.0,\"Europe\",0.4014798035330034,49.75,6.1667],[\"Malta\",97557.0,\"Europe\",0.18902732028676614,35.8333,14.5833],[\"Moldova\",519452.0,\"Europe\",0.12908766719888667,47.0,29.0],[\"Monaco\",12616.0,\"Europe\",0.3192307692307692,43.7333,7.4],[\"Montenegro\",238416.0,\"Europe\",0.3796124836995722,42.0,19.0],[\"Netherlands\",8132678.0,\"Europe\",0.47357092437740106,52.5,5.75],[\"North Macedonia\",312879.0,\"Europe\",0.15023040235544816,41.8333,22.0],[\"Norway\",1439656.0,\"Europe\",0.26340170545787134,62.0,10.0],[\"Poland\",6011174.0,\"Europe\",0.1590383892901553,52.0,20.0],[\"Portugal\",5005783.0,\"Europe\",0.49231126160180405,39.5,-8.0],[\"Romania\",2912705.0,\"Europe\",0.15227622955773418,46.0,25.0],[\"Russia\",18126576.0,\"Europe\",0.1242294894659194,60.0,100.0],[\"San Marino\",17413.0,\"Europe\",0.5119964716259924,43.7667,12.4167],[\"Serbia\",2022252.0,\"Europe\",0.2942935557306091,44.0,21.0],[\"Slovakia\",2546134.0,\"Europe\",0.4672431353190427,48.6667,19.5],[\"Slovenia\",1030354.0,\"Europe\",0.4956668108256848,46.0,15.0],[\"Spain\",12563399.0,\"Europe\",0.26876333920067236,40.0,-4.0],[\"Sweden\",2512853.0,\"Europe\",0.24732418065504683,62.0,15.0],[\"Switzerland\",3701895.0,\"Europe\",0.42474872910244676,47.0,8.0],[\"Ukraine\",5040518.0,\"Europe\",0.11596242301772143,49.0,32.0],[\"United Kingdom\",22549766.0,\"Europe\",0.3306072442824659,54.0,-2.0],[\"Vatican\",29.0,\"Europe\",0.03571428571428571,41.9,12.45]],\"hovertemplate\":\"location=%{customdata[0]}\\u003cbr\\u003etotal_cases=%{customdata[1]}\\u003cextra\\u003e\\u003c\\u002fextra\\u003e\",\"lat\":[41.0,42.5,47.3333,53.0,50.8333,44.0,43.0,45.1667,35.0,49.75,56.0,59.0,62.0,64.0,46.0,51.0,36.1833,39.0,47.0,65.0,53.0,54.23,42.8333,57.0,47.1667,56.0,49.75,35.8333,47.0,43.7333,42.0,52.5,41.8333,62.0,52.0,39.5,46.0,60.0,43.7667,44.0,48.6667,46.0,40.0,62.0,47.0,49.0,54.0,41.9],\"legendgroup\":\"Europe\",\"lon\":[20.0,1.6,13.3333,28.0,4.0,18.0,25.0,15.5,33.0,15.5,10.0,26.0,-7.0,26.0,2.0,9.0,-5.3667,22.0,20.0,-18.0,-8.0,-4.55,12.8333,25.0,9.5333,24.0,6.1667,14.5833,29.0,7.4,19.0,5.75,22.0,10.0,20.0,-8.0,25.0,100.0,12.4167,21.0,19.5,15.0,-4.0,15.0,8.0,32.0,-2.0,12.45],\"marker\":{\"color\":\"#EF553B\",\"size\":[0.09646619100891284,0.5616904103213797,0.48102193590850545,0.10408565534175161,0.36002576954891424,0.11589206421775178,0.16936253879598154,0.27967710172608823,0.5551910982639606,0.3660097535067429,0.541963758290899,0.4365373064048271,0.7065419036552301,0.2028242214232275,0.44703323840882797,0.3242527089031479,0.5642456442373334,0.34128910868233503,0.19961487049937504,0.5181213258422092,0.3167397967129208,0.3959840768059946,0.2956046477414964,0.4455042331437533,0.46146808176922677,0.3959809090577881,0.4014798035330034,0.18902732028676614,0.12908766719888667,0.3192307692307692,0.3796124836995722,0.47357092437740106,0.15023040235544816,0.26340170545787134,0.1590383892901553,0.49231126160180405,0.15227622955773418,0.1242294894659194,0.5119964716259924,0.2942935557306091,0.4672431353190427,0.4956668108256848,0.26876333920067236,0.24732418065504683,0.42474872910244676,0.11596242301772143,0.3306072442824659,0.03571428571428571],\"sizemode\":\"area\",\"sizeref\":0.01103971724461297},\"mode\":\"markers\",\"name\":\"Europe\",\"showlegend\":true,\"subplot\":\"mapbox\",\"type\":\"scattermapbox\"},{\"customdata\":[[\"Algeria\",265971.0,\"Africa\",0.005961253098788779,28.0,3.0],[\"Angola\",99761.0,\"Africa\",0.0029398875351049434,-12.5,18.5],[\"Benin\",27122.0,\"Africa\",0.0021782935083849682,9.5,2.25],[\"Botswana\",314242.0,\"Africa\",0.13108491431813252,-22.0,24.0],[\"Burkina Faso\",21044.0,\"Africa\",0.0009789228750281956,13.0,-2.0],[\"Burundi\",42398.0,\"Africa\",0.00345952801815424,-3.5,30.0],[\"Cameroon\",119947.0,\"Africa\",0.004405886190780856,6.0,12.0],[\"Cape Verde\",58029.0,\"Africa\",0.10327264055411896,16.0,-24.0],[\"Central African Republic\",14649.0,\"Africa\",0.002977446891627966,7.0,21.0],[\"Chad\",7420.0,\"Africa\",0.0004386642967759061,15.0,19.0],[\"Comoros\",8131.0,\"Africa\",0.00915183194215583,-12.1667,44.25],[\"Congo\",24128.0,\"Africa\",0.004265145393764947,-1.0,15.0],[\"Cote d'Ivoire\",82659.0,\"Africa\",0.003055375676217043,8.0,-5.0],[\"Democratic Republic of Congo\",89932.0,\"Africa\",0.0009735219817414075,0.0,25.0],[\"Djibouti\",15690.0,\"Africa\",0.01565560463661336,11.5,43.0],[\"Egypt\",515645.0,\"Africa\",0.004945839961540913,27.0,30.0],[\"Equatorial Guinea\",15951.0,\"Africa\",0.011001516665735562,2.0,10.0],[\"Eritrea\",9777.0,\"Africa\",0.0027147308509710777,15.0,39.0],[\"Eswatini\",73003.0,\"Africa\",0.06226964377256649,-26.5,31.5],[\"Ethiopia\",483739.0,\"Africa\",0.004103787645865079,8.0,38.0],[\"Gabon\",47742.0,\"Africa\",0.020950233650703937,-1.0,11.75],[\"Gambia\",12002.0,\"Africa\",0.004826016903524295,13.4667,-16.5667],[\"Ghana\",163332.0,\"Africa\",0.005147212314282862,8.0,-2.0],[\"Guinea\",36817.0,\"Africa\",0.0027277434633473504,11.0,-10.0],[\"Guinea-Bissau\",8307.0,\"Africa\",0.004121578375481893,12.0,-15.0],[\"Kenya\",329107.0,\"Africa\",0.005985319601812122,1.0,38.0],[\"Lesotho\",33746.0,\"Africa\",0.015629899396359632,-29.5,28.5],[\"Liberia\",7489.0,\"Africa\",0.0014456948446857733,6.5,-9.5],[\"Libya\",502076.0,\"Africa\",0.0721525124961594,25.0,17.0],[\"Madagascar\",64685.0,\"Africa\",0.0022754508838377487,-20.0,47.0],[\"Malawi\",86202.0,\"Africa\",0.004387388007775574,-13.5,34.0],[\"Mali\",31137.0,\"Africa\",0.0014929714259739916,17.0,-4.0],[\"Mauritania\",59293.0,\"Africa\",0.012417096150664593,20.0,-12.0],[\"Mauritius\",227442.0,\"Africa\",0.17860609315956616,-20.2833,57.55],[\"Morocco\",1184732.0,\"Africa\",0.031724160054788904,32.0,-5.0],[\"Mozambique\",227083.0,\"Africa\",0.007060370061354577,-18.25,35.0],[\"Namibia\",168851.0,\"Africa\",0.06526035965839873,-22.0,17.0],[\"Niger\",9031.0,\"Africa\",0.000359359686377001,16.0,8.0],[\"Nigeria\",256573.0,\"Africa\",0.0012136809156510662,10.0,8.0],[\"Rwanda\",130531.0,\"Africa\",0.009831720171789031,-2.0,30.0],[\"Saint Helena\",4.0,\"Africa\",0.0006562756357670221,-15.9333,-5.7],[\"Sao Tome and Principe\",6010.0,\"Africa\",0.02690675310255905,1.0,7.0],[\"Senegal\",86201.0,\"Africa\",0.005012762041712675,14.0,-14.0],[\"Seychelles\",44521.0,\"Africa\",0.45011626731371956,-4.5833,55.6667],[\"Sierra Leone\",7688.0,\"Africa\",0.000944315943941927,8.5,-11.5],[\"Somalia\",26675.0,\"Africa\",0.001630551055961368,10.0,49.0],[\"South Africa\",3984646.0,\"Africa\",0.06636431606970561,-29.0,24.0],[\"South Sudan\",17697.0,\"Africa\",0.0015549085141455205,8.0,30.0],[\"Sudan\",62489.0,\"Africa\",0.0013914474070222036,15.0,30.0],[\"Tanzania\",35354.0,\"Africa\",0.0005748763895434222,-6.0,35.0],[\"Togo\",37242.0,\"Africa\",0.004392655930321404,8.0,1.1667],[\"Tunisia\",1044426.0,\"Africa\",0.0875039084217818,34.0,9.0],[\"Uganda\",166809.0,\"Africa\",0.003539823722470045,1.0,32.0],[\"Zambia\",324025.0,\"Africa\",0.017125462398055204,-15.0,30.0],[\"Zimbabwe\",254753.0,\"Africa\",0.016879811393602683,-20.0,30.0]],\"hovertemplate\":\"location=%{customdata[0]}\\u003cbr\\u003etotal_cases=%{customdata[1]}\\u003cextra\\u003e\\u003c\\u002fextra\\u003e\",\"lat\":[28.0,-12.5,9.5,-22.0,13.0,-3.5,6.0,16.0,7.0,15.0,-12.1667,-1.0,8.0,0.0,11.5,27.0,2.0,15.0,-26.5,8.0,-1.0,13.4667,8.0,11.0,12.0,1.0,-29.5,6.5,25.0,-20.0,-13.5,17.0,20.0,-20.2833,32.0,-18.25,-22.0,16.0,10.0,-2.0,-15.9333,1.0,14.0,-4.5833,8.5,10.0,-29.0,8.0,15.0,-6.0,8.0,34.0,1.0,-15.0,-20.0],\"legendgroup\":\"Africa\",\"lon\":[3.0,18.5,2.25,24.0,-2.0,30.0,12.0,-24.0,21.0,19.0,44.25,15.0,-5.0,25.0,43.0,30.0,10.0,39.0,31.5,38.0,11.75,-16.5667,-2.0,-10.0,-15.0,38.0,28.5,-9.5,17.0,47.0,34.0,-4.0,-12.0,57.55,-5.0,35.0,17.0,8.0,8.0,30.0,-5.7,7.0,-14.0,55.6667,-11.5,49.0,24.0,30.0,30.0,35.0,1.1667,9.0,32.0,30.0,30.0],\"marker\":{\"color\":\"#00cc96\",\"size\":[0.005961253098788779,0.0029398875351049434,0.0021782935083849682,0.13108491431813252,0.0009789228750281956,0.00345952801815424,0.004405886190780856,0.10327264055411896,0.002977446891627966,0.0004386642967759061,0.00915183194215583,0.004265145393764947,0.003055375676217043,0.0009735219817414075,0.01565560463661336,0.004945839961540913,0.011001516665735562,0.0027147308509710777,0.06226964377256649,0.004103787645865079,0.020950233650703937,0.004826016903524295,0.005147212314282862,0.0027277434633473504,0.004121578375481893,0.005985319601812122,0.015629899396359632,0.0014456948446857733,0.0721525124961594,0.0022754508838377487,0.004387388007775574,0.0014929714259739916,0.012417096150664593,0.17860609315956616,0.031724160054788904,0.007060370061354577,0.06526035965839873,0.000359359686377001,0.0012136809156510662,0.009831720171789031,0.0006562756357670221,0.02690675310255905,0.005012762041712675,0.45011626731371956,0.000944315943941927,0.001630551055961368,0.06636431606970561,0.0015549085141455205,0.0013914474070222036,0.0005748763895434222,0.004392655930321404,0.0875039084217818,0.003539823722470045,0.017125462398055204,0.016879811393602683],\"sizemode\":\"area\",\"sizeref\":0.01103971724461297},\"mode\":\"markers\",\"name\":\"Africa\",\"showlegend\":true,\"subplot\":\"mapbox\",\"type\":\"scattermapbox\"},{\"customdata\":[[\"Anguilla\",3374.0,\"North America\",0.22307438016528924,18.25,-63.1667],[\"Antigua and Barbuda\",8581.0,\"North America\",0.08691556599951382,17.05,-61.8],[\"Aruba\",39980.0,\"North America\",0.3729651569569476,12.5,-69.9667],[\"Bahamas\",35603.0,\"North America\",0.08969953188851994,24.25,-76.0],[\"Barbados\",82826.0,\"North America\",0.2878821582993869,13.1667,-59.5333],[\"Belize\",61918.0,\"North America\",0.15291604410802268,17.25,-88.75],[\"Bermuda\",15762.0,\"North America\",0.25384912710172003,32.3333,-64.75],[\"British Virgin Islands\",6941.0,\"North America\",0.22814975511948196,18.5,-64.5],[\"Canada\",3925888.0,\"North America\",0.10312853242046655,60.0,-95.0],[\"Cayman Islands\",26797.0,\"North America\",0.4029745255496406,19.5,-80.5],[\"Costa Rica\",904934.0,\"North America\",0.17608964141837027,10.0,-84.0],[\"Cuba\",1105729.0,\"North America\",0.09770083458375695,21.5,-80.0],[\"Dominica\",14781.0,\"North America\",0.20480241644959263,15.4167,-61.3333],[\"Dominican Republic\",595927.0,\"North America\",0.05440410439783255,19.0,-70.6667],[\"El Salvador\",164134.0,\"North America\",0.025179719260566082,13.8333,-88.9167],[\"Greenland\",11971.0,\"North America\",0.21050502919040584,72.0,-40.0],[\"Grenada\",18115.0,\"North America\",0.16028845728443128,12.1167,-61.6667],[\"Guatemala\",880169.0,\"North America\",0.04822878718903611,15.5,-90.25],[\"Haiti\",31054.0,\"North America\",0.0026905954703486485,19.0,-72.4167],[\"Honduras\",426095.0,\"North America\",0.04234276597998568,15.0,-86.5],[\"Jamaica\",141306.0,\"North America\",0.04752238300001816,18.25,-77.5],[\"Mexico\",5852596.0,\"North America\",0.04492934328925148,23.0,-102.0],[\"Montserrat\",1015.0,\"North America\",0.20377434250150572,16.75,-62.2],[\"Nicaragua\",14619.0,\"North America\",0.002181165821867131,13.0,-85.0],[\"Panama\",902386.0,\"North America\",0.20594976746988475,9.0,-80.0],[\"Saint Kitts and Nevis\",5899.0,\"North America\",0.11016695924999066,17.3333,-62.75],[\"Saint Lucia\",26722.0,\"North America\",0.14491244624486851,13.8833,-61.1333],[\"Saint Pierre and Miquelon\",2767.0,\"North America\",0.47946629700225263,46.8333,-56.3333],[\"Saint Vincent and the Grenadines\",8956.0,\"North America\",0.08048962424394934,13.25,-61.2],[\"Trinidad and Tobago\",165706.0,\"North America\",0.11807686333080133,11.0,-61.0],[\"Turks and Caicos Islands\",6189.0,\"North America\",0.1577780043848468,21.75,-71.5833],[\"United States\",86230982.0,\"North America\",0.25901795603283495,38.0,-97.0]],\"hovertemplate\":\"location=%{customdata[0]}\\u003cbr\\u003etotal_cases=%{customdata[1]}\\u003cextra\\u003e\\u003c\\u002fextra\\u003e\",\"lat\":[18.25,17.05,12.5,24.25,13.1667,17.25,32.3333,18.5,60.0,19.5,10.0,21.5,15.4167,19.0,13.8333,72.0,12.1167,15.5,19.0,15.0,18.25,23.0,16.75,13.0,9.0,17.3333,13.8833,46.8333,13.25,11.0,21.75,38.0],\"legendgroup\":\"North America\",\"lon\":[-63.1667,-61.8,-69.9667,-76.0,-59.5333,-88.75,-64.75,-64.5,-95.0,-80.5,-84.0,-80.0,-61.3333,-70.6667,-88.9167,-40.0,-61.6667,-90.25,-72.4167,-86.5,-77.5,-102.0,-62.2,-85.0,-80.0,-62.75,-61.1333,-56.3333,-61.2,-61.0,-71.5833,-97.0],\"marker\":{\"color\":\"#ab63fa\",\"size\":[0.22307438016528924,0.08691556599951382,0.3729651569569476,0.08969953188851994,0.2878821582993869,0.15291604410802268,0.25384912710172003,0.22814975511948196,0.10312853242046655,0.4029745255496406,0.17608964141837027,0.09770083458375695,0.20480241644959263,0.05440410439783255,0.025179719260566082,0.21050502919040584,0.16028845728443128,0.04822878718903611,0.0026905954703486485,0.04234276597998568,0.04752238300001816,0.04492934328925148,0.20377434250150572,0.002181165821867131,0.20594976746988475,0.11016695924999066,0.14491244624486851,0.47946629700225263,0.08048962424394934,0.11807686333080133,0.1577780043848468,0.25901795603283495],\"sizemode\":\"area\",\"sizeref\":0.01103971724461297},\"mode\":\"markers\",\"name\":\"North America\",\"showlegend\":true,\"subplot\":\"mapbox\",\"type\":\"scattermapbox\"},{\"customdata\":[[\"Argentina\",9313453.0,\"South America\",0.20421631246518673,-34.0,-64.0],[\"Bolivia\",914827.0,\"South America\",0.07731191988192955,-17.0,-65.0],[\"Brazil\",31611769.0,\"South America\",0.147723074372172,-10.0,-55.0],[\"Chile\",3882425.0,\"South America\",0.2020795256720647,-30.0,-71.0],[\"Colombia\",6131657.0,\"South America\",0.1196051187378356,4.0,-72.0],[\"Ecuador\",896483.0,\"South America\",0.050115118818966894,-2.0,-77.5],[\"Falkland Islands\",1756.0,\"South America\",0.4977324263038549,-51.75,-59.0],[\"Guyana\",66456.0,\"South America\",0.0840865006851577,5.0,-59.0],[\"Paraguay\",653428.0,\"South America\",0.09050699335327062,-23.0,-58.0],[\"Peru\",3597866.0,\"South America\",0.10785159152221345,-10.0,-76.0],[\"Suriname\",80766.0,\"South America\",0.1364756217493131,4.0,-56.0],[\"Uruguay\",943877.0,\"South America\",0.27082807292192707,-33.0,-56.0],[\"Venezuela\",524823.0,\"South America\",0.018283364188061382,8.0,-66.0]],\"hovertemplate\":\"location=%{customdata[0]}\\u003cbr\\u003etotal_cases=%{customdata[1]}\\u003cextra\\u003e\\u003c\\u002fextra\\u003e\",\"lat\":[-34.0,-17.0,-10.0,-30.0,4.0,-2.0,-51.75,5.0,-23.0,-10.0,4.0,-33.0,8.0],\"legendgroup\":\"South America\",\"lon\":[-64.0,-65.0,-55.0,-71.0,-72.0,-77.5,-59.0,-59.0,-58.0,-76.0,-56.0,-56.0,-66.0],\"marker\":{\"color\":\"#FFA15A\",\"size\":[0.20421631246518673,0.07731191988192955,0.147723074372172,0.2020795256720647,0.1196051187378356,0.050115118818966894,0.4977324263038549,0.0840865006851577,0.09050699335327062,0.10785159152221345,0.1364756217493131,0.27082807292192707,0.018283364188061382],\"sizemode\":\"area\",\"sizeref\":0.01103971724461297},\"mode\":\"markers\",\"name\":\"South America\",\"showlegend\":true,\"subplot\":\"mapbox\",\"type\":\"scattermapbox\"},{\"customdata\":[[\"Australia\",7801241.0,\"Oceania\",0.3025118409698507,-27.0,133.0],[\"Cook Islands\",5727.0,\"Oceania\",0.32591623036649214,-21.2333,-159.7667],[\"Fiji\",65268.0,\"Oceania\",0.07228715504170455,-18.0,175.0],[\"French Polynesia\",73142.0,\"Oceania\",0.2588785774455464,-15.0,-140.0],[\"Kiribati\",3215.0,\"Oceania\",0.026485319800968795,1.4167,173.0],[\"Marshall Islands\",18.0,\"Oceania\",0.0003019222382501929,9.0,168.0],[\"Micronesia (country)\",38.0,\"Oceania\",0.0003268676616059524,6.9167,158.25],[\"New Caledonia\",63002.0,\"Oceania\",0.21859224126265972,-21.5,165.5],[\"New Zealand\",1273389.0,\"Oceania\",0.2484031367653083,-41.0,174.0],[\"Palau\",5181.0,\"Oceania\",0.28507758336084515,7.5,134.5],[\"Papua New Guinea\",44681.0,\"Oceania\",0.0048997670250208215,-6.0,147.0],[\"Samoa\",14497.0,\"Oceania\",0.07243284834918859,-13.5833,-172.3333],[\"Solomon Islands\",21544.0,\"Oceania\",0.030602490074503372,-8.0,159.0],[\"Tonga\",12079.0,\"Oceania\",0.11314268586255023,-20.0,-175.0],[\"Vanuatu\",10857.0,\"Oceania\",0.03452541467385774,-16.0,167.0],[\"Wallis and Futuna\",454.0,\"Oceania\",0.04092302145303768,-13.3,-176.2]],\"hovertemplate\":\"location=%{customdata[0]}\\u003cbr\\u003etotal_cases=%{customdata[1]}\\u003cextra\\u003e\\u003c\\u002fextra\\u003e\",\"lat\":[-27.0,-21.2333,-18.0,-15.0,1.4167,9.0,6.9167,-21.5,-41.0,7.5,-6.0,-13.5833,-8.0,-20.0,-16.0,-13.3],\"legendgroup\":\"Oceania\",\"lon\":[133.0,-159.7667,175.0,-140.0,173.0,168.0,158.25,165.5,174.0,134.5,147.0,-172.3333,159.0,-175.0,167.0,-176.2],\"marker\":{\"color\":\"#19d3f3\",\"size\":[0.3025118409698507,0.32591623036649214,0.07228715504170455,0.2588785774455464,0.026485319800968795,0.0003019222382501929,0.0003268676616059524,0.21859224126265972,0.2484031367653083,0.28507758336084515,0.0048997670250208215,0.07243284834918859,0.030602490074503372,0.11314268586255023,0.03452541467385774,0.04092302145303768],\"sizemode\":\"area\",\"sizeref\":0.01103971724461297},\"mode\":\"markers\",\"name\":\"Oceania\",\"showlegend\":true,\"subplot\":\"mapbox\",\"type\":\"scattermapbox\"}],                        {\"template\":{\"data\":{\"histogram2dcontour\":[{\"type\":\"histogram2dcontour\",\"colorbar\":{\"outlinewidth\":0,\"ticks\":\"\"},\"colorscale\":[[0.0,\"#0d0887\"],[0.1111111111111111,\"#46039f\"],[0.2222222222222222,\"#7201a8\"],[0.3333333333333333,\"#9c179e\"],[0.4444444444444444,\"#bd3786\"],[0.5555555555555556,\"#d8576b\"],[0.6666666666666666,\"#ed7953\"],[0.7777777777777778,\"#fb9f3a\"],[0.8888888888888888,\"#fdca26\"],[1.0,\"#f0f921\"]]}],\"choropleth\":[{\"type\":\"choropleth\",\"colorbar\":{\"outlinewidth\":0,\"ticks\":\"\"}}],\"histogram2d\":[{\"type\":\"histogram2d\",\"colorbar\":{\"outlinewidth\":0,\"ticks\":\"\"},\"colorscale\":[[0.0,\"#0d0887\"],[0.1111111111111111,\"#46039f\"],[0.2222222222222222,\"#7201a8\"],[0.3333333333333333,\"#9c179e\"],[0.4444444444444444,\"#bd3786\"],[0.5555555555555556,\"#d8576b\"],[0.6666666666666666,\"#ed7953\"],[0.7777777777777778,\"#fb9f3a\"],[0.8888888888888888,\"#fdca26\"],[1.0,\"#f0f921\"]]}],\"heatmap\":[{\"type\":\"heatmap\",\"colorbar\":{\"outlinewidth\":0,\"ticks\":\"\"},\"colorscale\":[[0.0,\"#0d0887\"],[0.1111111111111111,\"#46039f\"],[0.2222222222222222,\"#7201a8\"],[0.3333333333333333,\"#9c179e\"],[0.4444444444444444,\"#bd3786\"],[0.5555555555555556,\"#d8576b\"],[0.6666666666666666,\"#ed7953\"],[0.7777777777777778,\"#fb9f3a\"],[0.8888888888888888,\"#fdca26\"],[1.0,\"#f0f921\"]]}],\"heatmapgl\":[{\"type\":\"heatmapgl\",\"colorbar\":{\"outlinewidth\":0,\"ticks\":\"\"},\"colorscale\":[[0.0,\"#0d0887\"],[0.1111111111111111,\"#46039f\"],[0.2222222222222222,\"#7201a8\"],[0.3333333333333333,\"#9c179e\"],[0.4444444444444444,\"#bd3786\"],[0.5555555555555556,\"#d8576b\"],[0.6666666666666666,\"#ed7953\"],[0.7777777777777778,\"#fb9f3a\"],[0.8888888888888888,\"#fdca26\"],[1.0,\"#f0f921\"]]}],\"contourcarpet\":[{\"type\":\"contourcarpet\",\"colorbar\":{\"outlinewidth\":0,\"ticks\":\"\"}}],\"contour\":[{\"type\":\"contour\",\"colorbar\":{\"outlinewidth\":0,\"ticks\":\"\"},\"colorscale\":[[0.0,\"#0d0887\"],[0.1111111111111111,\"#46039f\"],[0.2222222222222222,\"#7201a8\"],[0.3333333333333333,\"#9c179e\"],[0.4444444444444444,\"#bd3786\"],[0.5555555555555556,\"#d8576b\"],[0.6666666666666666,\"#ed7953\"],[0.7777777777777778,\"#fb9f3a\"],[0.8888888888888888,\"#fdca26\"],[1.0,\"#f0f921\"]]}],\"surface\":[{\"type\":\"surface\",\"colorbar\":{\"outlinewidth\":0,\"ticks\":\"\"},\"colorscale\":[[0.0,\"#0d0887\"],[0.1111111111111111,\"#46039f\"],[0.2222222222222222,\"#7201a8\"],[0.3333333333333333,\"#9c179e\"],[0.4444444444444444,\"#bd3786\"],[0.5555555555555556,\"#d8576b\"],[0.6666666666666666,\"#ed7953\"],[0.7777777777777778,\"#fb9f3a\"],[0.8888888888888888,\"#fdca26\"],[1.0,\"#f0f921\"]]}],\"mesh3d\":[{\"type\":\"mesh3d\",\"colorbar\":{\"outlinewidth\":0,\"ticks\":\"\"}}],\"scatter\":[{\"fillpattern\":{\"fillmode\":\"overlay\",\"size\":10,\"solidity\":0.2},\"type\":\"scatter\"}],\"parcoords\":[{\"type\":\"parcoords\",\"line\":{\"colorbar\":{\"outlinewidth\":0,\"ticks\":\"\"}}}],\"scatterpolargl\":[{\"type\":\"scatterpolargl\",\"marker\":{\"colorbar\":{\"outlinewidth\":0,\"ticks\":\"\"}}}],\"bar\":[{\"error_x\":{\"color\":\"#2a3f5f\"},\"error_y\":{\"color\":\"#2a3f5f\"},\"marker\":{\"line\":{\"color\":\"#E5ECF6\",\"width\":0.5},\"pattern\":{\"fillmode\":\"overlay\",\"size\":10,\"solidity\":0.2}},\"type\":\"bar\"}],\"scattergeo\":[{\"type\":\"scattergeo\",\"marker\":{\"colorbar\":{\"outlinewidth\":0,\"ticks\":\"\"}}}],\"scatterpolar\":[{\"type\":\"scatterpolar\",\"marker\":{\"colorbar\":{\"outlinewidth\":0,\"ticks\":\"\"}}}],\"histogram\":[{\"marker\":{\"pattern\":{\"fillmode\":\"overlay\",\"size\":10,\"solidity\":0.2}},\"type\":\"histogram\"}],\"scattergl\":[{\"type\":\"scattergl\",\"marker\":{\"colorbar\":{\"outlinewidth\":0,\"ticks\":\"\"}}}],\"scatter3d\":[{\"type\":\"scatter3d\",\"line\":{\"colorbar\":{\"outlinewidth\":0,\"ticks\":\"\"}},\"marker\":{\"colorbar\":{\"outlinewidth\":0,\"ticks\":\"\"}}}],\"scattermapbox\":[{\"type\":\"scattermapbox\",\"marker\":{\"colorbar\":{\"outlinewidth\":0,\"ticks\":\"\"}}}],\"scatterternary\":[{\"type\":\"scatterternary\",\"marker\":{\"colorbar\":{\"outlinewidth\":0,\"ticks\":\"\"}}}],\"scattercarpet\":[{\"type\":\"scattercarpet\",\"marker\":{\"colorbar\":{\"outlinewidth\":0,\"ticks\":\"\"}}}],\"carpet\":[{\"aaxis\":{\"endlinecolor\":\"#2a3f5f\",\"gridcolor\":\"white\",\"linecolor\":\"white\",\"minorgridcolor\":\"white\",\"startlinecolor\":\"#2a3f5f\"},\"baxis\":{\"endlinecolor\":\"#2a3f5f\",\"gridcolor\":\"white\",\"linecolor\":\"white\",\"minorgridcolor\":\"white\",\"startlinecolor\":\"#2a3f5f\"},\"type\":\"carpet\"}],\"table\":[{\"cells\":{\"fill\":{\"color\":\"#EBF0F8\"},\"line\":{\"color\":\"white\"}},\"header\":{\"fill\":{\"color\":\"#C8D4E3\"},\"line\":{\"color\":\"white\"}},\"type\":\"table\"}],\"barpolar\":[{\"marker\":{\"line\":{\"color\":\"#E5ECF6\",\"width\":0.5},\"pattern\":{\"fillmode\":\"overlay\",\"size\":10,\"solidity\":0.2}},\"type\":\"barpolar\"}],\"pie\":[{\"automargin\":true,\"type\":\"pie\"}]},\"layout\":{\"autotypenumbers\":\"strict\",\"colorway\":[\"#636efa\",\"#EF553B\",\"#00cc96\",\"#ab63fa\",\"#FFA15A\",\"#19d3f3\",\"#FF6692\",\"#B6E880\",\"#FF97FF\",\"#FECB52\"],\"font\":{\"color\":\"#2a3f5f\"},\"hovermode\":\"closest\",\"hoverlabel\":{\"align\":\"left\"},\"paper_bgcolor\":\"white\",\"plot_bgcolor\":\"#E5ECF6\",\"polar\":{\"bgcolor\":\"#E5ECF6\",\"angularaxis\":{\"gridcolor\":\"white\",\"linecolor\":\"white\",\"ticks\":\"\"},\"radialaxis\":{\"gridcolor\":\"white\",\"linecolor\":\"white\",\"ticks\":\"\"}},\"ternary\":{\"bgcolor\":\"#E5ECF6\",\"aaxis\":{\"gridcolor\":\"white\",\"linecolor\":\"white\",\"ticks\":\"\"},\"baxis\":{\"gridcolor\":\"white\",\"linecolor\":\"white\",\"ticks\":\"\"},\"caxis\":{\"gridcolor\":\"white\",\"linecolor\":\"white\",\"ticks\":\"\"}},\"coloraxis\":{\"colorbar\":{\"outlinewidth\":0,\"ticks\":\"\"}},\"colorscale\":{\"sequential\":[[0.0,\"#0d0887\"],[0.1111111111111111,\"#46039f\"],[0.2222222222222222,\"#7201a8\"],[0.3333333333333333,\"#9c179e\"],[0.4444444444444444,\"#bd3786\"],[0.5555555555555556,\"#d8576b\"],[0.6666666666666666,\"#ed7953\"],[0.7777777777777778,\"#fb9f3a\"],[0.8888888888888888,\"#fdca26\"],[1.0,\"#f0f921\"]],\"sequentialminus\":[[0.0,\"#0d0887\"],[0.1111111111111111,\"#46039f\"],[0.2222222222222222,\"#7201a8\"],[0.3333333333333333,\"#9c179e\"],[0.4444444444444444,\"#bd3786\"],[0.5555555555555556,\"#d8576b\"],[0.6666666666666666,\"#ed7953\"],[0.7777777777777778,\"#fb9f3a\"],[0.8888888888888888,\"#fdca26\"],[1.0,\"#f0f921\"]],\"diverging\":[[0,\"#8e0152\"],[0.1,\"#c51b7d\"],[0.2,\"#de77ae\"],[0.3,\"#f1b6da\"],[0.4,\"#fde0ef\"],[0.5,\"#f7f7f7\"],[0.6,\"#e6f5d0\"],[0.7,\"#b8e186\"],[0.8,\"#7fbc41\"],[0.9,\"#4d9221\"],[1,\"#276419\"]]},\"xaxis\":{\"gridcolor\":\"white\",\"linecolor\":\"white\",\"ticks\":\"\",\"title\":{\"standoff\":15},\"zerolinecolor\":\"white\",\"automargin\":true,\"zerolinewidth\":2},\"yaxis\":{\"gridcolor\":\"white\",\"linecolor\":\"white\",\"ticks\":\"\",\"title\":{\"standoff\":15},\"zerolinecolor\":\"white\",\"automargin\":true,\"zerolinewidth\":2},\"scene\":{\"xaxis\":{\"backgroundcolor\":\"#E5ECF6\",\"gridcolor\":\"white\",\"linecolor\":\"white\",\"showbackground\":true,\"ticks\":\"\",\"zerolinecolor\":\"white\",\"gridwidth\":2},\"yaxis\":{\"backgroundcolor\":\"#E5ECF6\",\"gridcolor\":\"white\",\"linecolor\":\"white\",\"showbackground\":true,\"ticks\":\"\",\"zerolinecolor\":\"white\",\"gridwidth\":2},\"zaxis\":{\"backgroundcolor\":\"#E5ECF6\",\"gridcolor\":\"white\",\"linecolor\":\"white\",\"showbackground\":true,\"ticks\":\"\",\"zerolinecolor\":\"white\",\"gridwidth\":2}},\"shapedefaults\":{\"line\":{\"color\":\"#2a3f5f\"}},\"annotationdefaults\":{\"arrowcolor\":\"#2a3f5f\",\"arrowhead\":0,\"arrowwidth\":1},\"geo\":{\"bgcolor\":\"white\",\"landcolor\":\"#E5ECF6\",\"subunitcolor\":\"white\",\"showland\":true,\"showlakes\":true,\"lakecolor\":\"white\"},\"title\":{\"x\":0.05},\"mapbox\":{\"style\":\"light\"}}},\"mapbox\":{\"domain\":{\"x\":[0.0,1.0],\"y\":[0.0,1.0]},\"center\":{\"lat\":18.929894835680752,\"lon\":15.324138028169015},\"accesstoken\":\"pk.eyJ1Ijoib21lZ2FwaCIsImEiOiJjbHU1bW14cWwweXR1MmpuNDBrYWRrc2p0In0.JqpHZHfWXQxlTWR7US-5PA\",\"zoom\":0.8,\"style\":\"dark\"},\"legend\":{\"title\":{\"text\":\"continent\"},\"tracegroupgap\":0,\"itemsizing\":\"constant\"},\"title\":{\"text\":\"COVID-19 map - positive cases per person\"},\"width\":1200,\"height\":700},                        {\"responsive\": true}                    ).then(function(){\n",
              "                            \n",
              "var gd = document.getElementById('092b1922-d53f-4ba0-87e0-26d858816592');\n",
              "var x = new MutationObserver(function (mutations, observer) {{\n",
              "        var display = window.getComputedStyle(gd).display;\n",
              "        if (!display || display === 'none') {{\n",
              "            console.log([gd, 'removed!']);\n",
              "            Plotly.purge(gd);\n",
              "            observer.disconnect();\n",
              "        }}\n",
              "}});\n",
              "\n",
              "// Listen for the removal of the full notebook cells\n",
              "var notebookContainer = gd.closest('#notebook-container');\n",
              "if (notebookContainer) {{\n",
              "    x.observe(notebookContainer, {childList: true});\n",
              "}}\n",
              "\n",
              "// Listen for the clearing of the current output cell\n",
              "var outputEl = gd.closest('.output');\n",
              "if (outputEl) {{\n",
              "    x.observe(outputEl, {childList: true});\n",
              "}}\n",
              "\n",
              "                        })                };                            </script>        </div>\n",
              "</body>\n",
              "</html>"
            ]
          },
          "metadata": {}
        }
      ]
    },
    {
      "cell_type": "markdown",
      "source": [
        "# Dashboard 1\n",
        "Creating two graphs and displaying them on dashboard:\n",
        "1. Cummulative number of positive cases\n",
        "2. Cummulative number of deaths\n",
        "\n",
        "User can choose a country for displayed graphs.\n",
        "\n"
      ],
      "metadata": {
        "id": "NJTFRB-vCstJ"
      }
    },
    {
      "cell_type": "code",
      "source": [
        "df_dash_1 = df"
      ],
      "metadata": {
        "id": "mU7Bw-Nl3UjH"
      },
      "execution_count": 20,
      "outputs": []
    },
    {
      "cell_type": "code",
      "source": [
        "countries_list = list(df_dash_1['location'].drop_duplicates())"
      ],
      "metadata": {
        "id": "9grlIyZUAsd2"
      },
      "execution_count": 21,
      "outputs": []
    },
    {
      "cell_type": "code",
      "source": [
        "first_dash_app = dash.Dash()\n",
        "\n",
        "first_dash_app.layout = html.Div([\n",
        "    html.Div([\n",
        "        html.H1('COVID-19 Tracker')\n",
        "    ]),\n",
        "    html.P(\"Choose country:\"),\n",
        "    dcc.Dropdown(\n",
        "        id='country',\n",
        "        options=[{'value': str(country), 'label': country}\n",
        "                 for country in countries_list],\n",
        "        value=countries_list[0]\n",
        "        ),\n",
        "    html.Br(),\n",
        "    html.Div(children=[\n",
        "        dcc.Graph(id=\"graph-1\", style={'display': 'inline-block', 'width': '48%'}),\n",
        "        dcc.Graph(id=\"graph-2\", style={'display': 'inline-block', 'width': '48%'})\n",
        "    ])\n",
        "])\n",
        "\n",
        "\n",
        "@first_dash_app.callback(\n",
        "    Output(component_id='graph-1', component_property='figure'),\n",
        "    Input(component_id='country', component_property='value')\n",
        ")\n",
        "def generate_first_graph(country):\n",
        "    df = df_dash_1[df_dash_1['location'] == country]\n",
        "    fig = px.line(\n",
        "        data_frame=df,\n",
        "        x='date',\n",
        "        y='total_cases',\n",
        "        title=f'Cummulative number of positive cases in {country}',\n",
        "        labels={'total_cases': 'Total cases'}\n",
        "    )\n",
        "    return fig\n",
        "\n",
        "\n",
        "@first_dash_app.callback(\n",
        "    Output(component_id='graph-2', component_property='figure'),\n",
        "    Input(component_id='country', component_property='value')\n",
        ")\n",
        "def generate_second_graph(country):\n",
        "    df = df_dash_1[df_dash_1['location'] == country]\n",
        "    fig = px.line(\n",
        "        data_frame=df,\n",
        "        x='date',\n",
        "        y='total_deaths',\n",
        "        title=f'Cummulative number of deaths in {country}',\n",
        "        labels={'total_deaths': 'Total deaths'}\n",
        "    )\n",
        "    return fig"
      ],
      "metadata": {
        "id": "ToHSXrAIAsgZ"
      },
      "execution_count": 22,
      "outputs": []
    },
    {
      "cell_type": "code",
      "source": [
        "thread = threading.Thread(target=first_dash_app.run_server)\n",
        "thread.start()\n",
        "output.serve_kernel_port_as_window(port=8050)"
      ],
      "metadata": {
        "colab": {
          "base_uri": "https://localhost:8080/",
          "height": 689
        },
        "id": "2BNuZ86MAsjo",
        "outputId": "1ded2ae5-f9f8-47b5-b892-9212a8c16231"
      },
      "execution_count": 23,
      "outputs": [
        {
          "output_type": "display_data",
          "data": {
            "text/plain": [
              "<IPython.core.display.Javascript object>"
            ],
            "application/javascript": [
              "(async (port, path, text, element) => {\n",
              "    if (!google.colab.kernel.accessAllowed) {\n",
              "      return;\n",
              "    }\n",
              "    element.appendChild(document.createTextNode(''));\n",
              "    const url = await google.colab.kernel.proxyPort(port);\n",
              "    const anchor = document.createElement('a');\n",
              "    anchor.href = new URL(path, url).toString();\n",
              "    anchor.target = '_blank';\n",
              "    anchor.setAttribute('data-href', url + path);\n",
              "    anchor.textContent = text;\n",
              "    element.appendChild(anchor);\n",
              "  })(8050, \"/\", \"https://localhost:8050/\", window.element)"
            ]
          },
          "metadata": {}
        },
        {
          "output_type": "display_data",
          "data": {
            "text/plain": [
              "<IPython.core.display.Javascript object>"
            ],
            "application/javascript": [
              "(async (port, path, width, height, cache, element) => {\n",
              "    if (!google.colab.kernel.accessAllowed && !cache) {\n",
              "      return;\n",
              "    }\n",
              "    element.appendChild(document.createTextNode(''));\n",
              "    const url = await google.colab.kernel.proxyPort(port, {cache});\n",
              "    const iframe = document.createElement('iframe');\n",
              "    iframe.src = new URL(path, url).toString();\n",
              "    iframe.height = height;\n",
              "    iframe.width = width;\n",
              "    iframe.style.border = 0;\n",
              "    iframe.allow = [\n",
              "        'accelerometer',\n",
              "        'autoplay',\n",
              "        'camera',\n",
              "        'clipboard-read',\n",
              "        'clipboard-write',\n",
              "        'gyroscope',\n",
              "        'magnetometer',\n",
              "        'microphone',\n",
              "        'serial',\n",
              "        'usb',\n",
              "        'xr-spatial-tracking',\n",
              "    ].join('; ');\n",
              "    element.appendChild(iframe);\n",
              "  })(8050, \"/\", \"100%\", 650, false, window.element)"
            ]
          },
          "metadata": {}
        }
      ]
    },
    {
      "cell_type": "markdown",
      "source": [
        "# Dashboard 2\n",
        "\n",
        "Creating an interactive map graph with COVID-19 statistics.\n",
        "\n",
        "User can choose a continent and a statistic:\n",
        "- total cases\n",
        "- total deaths\n",
        "- total tests\n",
        "- total vaccinations\n",
        "- number of fully vaccinated people"
      ],
      "metadata": {
        "id": "NVKk_QMzCneY"
      }
    },
    {
      "cell_type": "code",
      "source": [
        "df_dash_2 = df[df['date'] == df['date'].max()].fillna(0)"
      ],
      "metadata": {
        "id": "qSKqXzUsBTR6"
      },
      "execution_count": 24,
      "outputs": []
    },
    {
      "cell_type": "code",
      "source": [
        "metric_dict = {'total_cases': 'Total cases',\n",
        "               'total_deaths': 'Total deaths',\n",
        "               'total_tests': 'Total tests',\n",
        "               'total_vaccinations': 'Total vaccinations',\n",
        "               'people_fully_vaccinated': 'Number of fully vaccinated people'}"
      ],
      "metadata": {
        "id": "qnuTsA9uBTrK"
      },
      "execution_count": 25,
      "outputs": []
    },
    {
      "cell_type": "code",
      "source": [
        "continent_list = list(df_dash_2['continent'].drop_duplicates())"
      ],
      "metadata": {
        "id": "nZDdJVKeBTtz"
      },
      "execution_count": 26,
      "outputs": []
    },
    {
      "cell_type": "code",
      "source": [
        "second_dash_app = dash.Dash()\n",
        "\n",
        "second_dash_app.layout = html.Div([\n",
        "    html.Div([\n",
        "        html.H1('COVID-19 Tracker')\n",
        "    ]),\n",
        "    html.P(\"Choose continent:\"),\n",
        "    dcc.Dropdown(\n",
        "        id='continent',\n",
        "        options=[{'value': str(continent), 'label': continent}\n",
        "                 for continent in continent_list],\n",
        "        value=continent_list[0]\n",
        "        ),\n",
        "    html.P(\"Choose metric:\"),\n",
        "    dcc.Dropdown(\n",
        "        id='metric',\n",
        "        options=[{'value': metric, 'label': metric_label}\n",
        "                 for metric, metric_label in metric_dict.items()],\n",
        "        value='total_cases'\n",
        "        ),\n",
        "    html.Br(),\n",
        "    html.Div(children=[\n",
        "        dcc.Graph(id=\"map\"),\n",
        "    ])\n",
        "\n",
        "])\n",
        "\n",
        "@second_dash_app.callback(\n",
        "    Output(component_id='map', component_property='figure'),\n",
        "    [Input(component_id='continent', component_property='value'),\n",
        "    Input(component_id='metric', component_property='value')]\n",
        ")\n",
        "def generate_covid_map(continent, metric):\n",
        "    df = df_dash_2[df_dash_2['continent'] == continent]\n",
        "    map = px.scatter_mapbox(\n",
        "        data_frame=df,\n",
        "        lat='latitude',\n",
        "        lon='longitude',\n",
        "        size=df[metric],\n",
        "        size_max=20,\n",
        "        hover_data={'location': True},\n",
        "        mapbox_style='dark',\n",
        "        zoom=1,\n",
        "        height=600,\n",
        "        title=f'COVID-19 - {metric_dict[metric]} in {continent}'\n",
        "    )\n",
        "    return map"
      ],
      "metadata": {
        "id": "a1U_7OIPBTwQ"
      },
      "execution_count": 27,
      "outputs": []
    },
    {
      "cell_type": "code",
      "source": [
        "thread = threading.Thread(target=second_dash_app.run_server)\n",
        "thread.start()\n",
        "output.serve_kernel_port_as_window(port=8050)"
      ],
      "metadata": {
        "colab": {
          "base_uri": "https://localhost:8080/",
          "height": 689
        },
        "id": "giuo2zPhBT2o",
        "outputId": "ab3d1c86-ee71-41a8-8eda-f7b7bba29ec8"
      },
      "execution_count": 28,
      "outputs": [
        {
          "output_type": "display_data",
          "data": {
            "text/plain": [
              "<IPython.core.display.Javascript object>"
            ],
            "application/javascript": [
              "(async (port, path, text, element) => {\n",
              "    if (!google.colab.kernel.accessAllowed) {\n",
              "      return;\n",
              "    }\n",
              "    element.appendChild(document.createTextNode(''));\n",
              "    const url = await google.colab.kernel.proxyPort(port);\n",
              "    const anchor = document.createElement('a');\n",
              "    anchor.href = new URL(path, url).toString();\n",
              "    anchor.target = '_blank';\n",
              "    anchor.setAttribute('data-href', url + path);\n",
              "    anchor.textContent = text;\n",
              "    element.appendChild(anchor);\n",
              "  })(8050, \"/\", \"https://localhost:8050/\", window.element)"
            ]
          },
          "metadata": {}
        },
        {
          "output_type": "display_data",
          "data": {
            "text/plain": [
              "<IPython.core.display.Javascript object>"
            ],
            "application/javascript": [
              "(async (port, path, width, height, cache, element) => {\n",
              "    if (!google.colab.kernel.accessAllowed && !cache) {\n",
              "      return;\n",
              "    }\n",
              "    element.appendChild(document.createTextNode(''));\n",
              "    const url = await google.colab.kernel.proxyPort(port, {cache});\n",
              "    const iframe = document.createElement('iframe');\n",
              "    iframe.src = new URL(path, url).toString();\n",
              "    iframe.height = height;\n",
              "    iframe.width = width;\n",
              "    iframe.style.border = 0;\n",
              "    iframe.allow = [\n",
              "        'accelerometer',\n",
              "        'autoplay',\n",
              "        'camera',\n",
              "        'clipboard-read',\n",
              "        'clipboard-write',\n",
              "        'gyroscope',\n",
              "        'magnetometer',\n",
              "        'microphone',\n",
              "        'serial',\n",
              "        'usb',\n",
              "        'xr-spatial-tracking',\n",
              "    ].join('; ');\n",
              "    element.appendChild(iframe);\n",
              "  })(8050, \"/\", \"100%\", 650, false, window.element)"
            ]
          },
          "metadata": {}
        }
      ]
    },
    {
      "cell_type": "markdown",
      "source": [
        "# Dashboard 3\n",
        "Creating two graphs and displaying them on dashboard:\n",
        "1. Ranking of countries with the greatest number of vaccinations.\n",
        "2. Ranking of countries with the best vaccination ratio.\n",
        "\n",
        "User can choose a number of countries to display."
      ],
      "metadata": {
        "id": "SSbS3RUDCfH4"
      }
    },
    {
      "cell_type": "code",
      "source": [
        "third_dash_app = dash.Dash()\n",
        "\n",
        "third_dash_app.layout = html.Div([\n",
        "    html.Div([\n",
        "        html.H1('COVID-19 Tracker')\n",
        "    ]),\n",
        "    html.P(\"Choose top x countries:\"),\n",
        "    dcc.Slider(5, 20, 5,\n",
        "        value=5,\n",
        "        id='my-slider'\n",
        "    ),\n",
        "    html.Br(),\n",
        "    html.Div(children=[\n",
        "        dcc.Graph(id='first-graph', style={'display':'inline-block', 'width': '48%'}),\n",
        "        dcc.Graph(id='second-graph', style={'display':'inline-block', 'width': '48%'})\n",
        "    ])\n",
        "\n",
        "])"
      ],
      "metadata": {
        "id": "htkTxZFzBT5G"
      },
      "execution_count": 29,
      "outputs": []
    },
    {
      "cell_type": "code",
      "source": [
        "@third_dash_app.callback(\n",
        "    Output(component_id='first-graph', component_property='figure'),\n",
        "    [Input(component_id='my-slider', component_property='value')]\n",
        ")\n",
        "def generate_vaccinations_graph(n):\n",
        "    max_date = df['date'].max()\n",
        "    df_1 = df[df['date'] == max_date].sort_values(by='total_vaccinations', ascending=False).head(n).fillna(0)\n",
        "    fig = px.bar(\n",
        "        data_frame=df_1,\n",
        "        x='location',\n",
        "        y='total_vaccinations',\n",
        "        title=f'Number of vaccinations',\n",
        "        labels={'total_vaccinations': 'Total vaccinations'}\n",
        "    )\n",
        "    return fig\n",
        "\n",
        "@third_dash_app.callback(\n",
        "    Output(component_id='second-graph', component_property='figure'),\n",
        "    [Input(component_id='my-slider', component_property='value')]\n",
        ")\n",
        "def generate_vaccination_ratio_graph(n):\n",
        "    max_date = df['date'].max()\n",
        "    df_1 = df[df['date'] == max_date]\n",
        "    df_1['vaccination_ratio'] = df_1['total_vaccinations'] / df_1['population']\n",
        "    df_1 = df_1.sort_values(by='vaccination_ratio', ascending=False).head(n).fillna(0)\n",
        "    fig = px.bar(\n",
        "        data_frame=df_1,\n",
        "        x='location',\n",
        "        y='vaccination_ratio',\n",
        "        title=f'Vaccination ratio',\n",
        "        labels={'vaccination_ratio': 'Vaccination ratio'}\n",
        "    )\n",
        "    return fig"
      ],
      "metadata": {
        "id": "x8dNqpZlAsmM"
      },
      "execution_count": 30,
      "outputs": []
    },
    {
      "cell_type": "code",
      "source": [
        "thread = threading.Thread(target=third_dash_app.run_server)\n",
        "thread.start()\n",
        "output.serve_kernel_port_as_window(port=8050)"
      ],
      "metadata": {
        "colab": {
          "base_uri": "https://localhost:8080/",
          "height": 689
        },
        "id": "r25mhEnrCKQX",
        "outputId": "85693628-8142-459d-974e-8138b019a348"
      },
      "execution_count": 31,
      "outputs": [
        {
          "output_type": "display_data",
          "data": {
            "text/plain": [
              "<IPython.core.display.Javascript object>"
            ],
            "application/javascript": [
              "(async (port, path, text, element) => {\n",
              "    if (!google.colab.kernel.accessAllowed) {\n",
              "      return;\n",
              "    }\n",
              "    element.appendChild(document.createTextNode(''));\n",
              "    const url = await google.colab.kernel.proxyPort(port);\n",
              "    const anchor = document.createElement('a');\n",
              "    anchor.href = new URL(path, url).toString();\n",
              "    anchor.target = '_blank';\n",
              "    anchor.setAttribute('data-href', url + path);\n",
              "    anchor.textContent = text;\n",
              "    element.appendChild(anchor);\n",
              "  })(8050, \"/\", \"https://localhost:8050/\", window.element)"
            ]
          },
          "metadata": {}
        },
        {
          "output_type": "display_data",
          "data": {
            "text/plain": [
              "<IPython.core.display.Javascript object>"
            ],
            "application/javascript": [
              "(async (port, path, width, height, cache, element) => {\n",
              "    if (!google.colab.kernel.accessAllowed && !cache) {\n",
              "      return;\n",
              "    }\n",
              "    element.appendChild(document.createTextNode(''));\n",
              "    const url = await google.colab.kernel.proxyPort(port, {cache});\n",
              "    const iframe = document.createElement('iframe');\n",
              "    iframe.src = new URL(path, url).toString();\n",
              "    iframe.height = height;\n",
              "    iframe.width = width;\n",
              "    iframe.style.border = 0;\n",
              "    iframe.allow = [\n",
              "        'accelerometer',\n",
              "        'autoplay',\n",
              "        'camera',\n",
              "        'clipboard-read',\n",
              "        'clipboard-write',\n",
              "        'gyroscope',\n",
              "        'magnetometer',\n",
              "        'microphone',\n",
              "        'serial',\n",
              "        'usb',\n",
              "        'xr-spatial-tracking',\n",
              "    ].join('; ');\n",
              "    element.appendChild(iframe);\n",
              "  })(8050, \"/\", \"100%\", 650, false, window.element)"
            ]
          },
          "metadata": {}
        }
      ]
    }
  ]
}